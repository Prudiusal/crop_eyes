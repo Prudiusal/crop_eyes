{
  "cells": [
    {
      "cell_type": "code",
      "execution_count": 1,
      "metadata": {
        "colab": {
          "base_uri": "https://localhost:8080/"
        },
        "id": "YPmIwMgFxY4k",
        "outputId": "d04a5fc2-0683-481f-a7c9-9c74cfd4197a"
      },
      "outputs": [
        {
          "output_type": "stream",
          "name": "stdout",
          "text": [
            "GPU Available: False\n"
          ]
        }
      ],
      "source": [
        "import torch\n",
        "print(\"GPU Available:\", torch.cuda.is_available())\n"
      ]
    },
    {
      "cell_type": "code",
      "execution_count": 2,
      "metadata": {
        "colab": {
          "base_uri": "https://localhost:8080/"
        },
        "id": "UcO5ivx_uXkc",
        "outputId": "28cf8214-1692-4b5a-d60d-2d1fa796e822"
      },
      "outputs": [
        {
          "output_type": "stream",
          "name": "stdout",
          "text": [
            "Mounted at /content/drive\n"
          ]
        }
      ],
      "source": [
        "from google.colab import drive\n",
        "drive.mount('/content/drive')\n"
      ]
    },
    {
      "cell_type": "code",
      "execution_count": 3,
      "metadata": {
        "colab": {
          "base_uri": "https://localhost:8080/"
        },
        "collapsed": true,
        "id": "iT30fbOogLAO",
        "outputId": "dbd86b6e-b599-4c88-add8-483f376efdf0"
      },
      "outputs": [
        {
          "output_type": "stream",
          "name": "stdout",
          "text": [
            "Requirement already satisfied: opencv-python in /usr/local/lib/python3.10/dist-packages (4.10.0.84)\n",
            "Collecting mediapipe\n",
            "  Downloading mediapipe-0.10.15-cp310-cp310-manylinux_2_17_x86_64.manylinux2014_x86_64.whl.metadata (9.7 kB)\n",
            "Requirement already satisfied: moviepy in /usr/local/lib/python3.10/dist-packages (1.0.3)\n",
            "Requirement already satisfied: numpy>=1.21.2 in /usr/local/lib/python3.10/dist-packages (from opencv-python) (1.26.4)\n",
            "Requirement already satisfied: absl-py in /usr/local/lib/python3.10/dist-packages (from mediapipe) (1.4.0)\n",
            "Requirement already satisfied: attrs>=19.1.0 in /usr/local/lib/python3.10/dist-packages (from mediapipe) (24.2.0)\n",
            "Requirement already satisfied: flatbuffers>=2.0 in /usr/local/lib/python3.10/dist-packages (from mediapipe) (24.3.25)\n",
            "Requirement already satisfied: jax in /usr/local/lib/python3.10/dist-packages (from mediapipe) (0.4.33)\n",
            "Requirement already satisfied: jaxlib in /usr/local/lib/python3.10/dist-packages (from mediapipe) (0.4.33)\n",
            "Requirement already satisfied: matplotlib in /usr/local/lib/python3.10/dist-packages (from mediapipe) (3.7.1)\n",
            "Requirement already satisfied: opencv-contrib-python in /usr/local/lib/python3.10/dist-packages (from mediapipe) (4.10.0.84)\n",
            "Collecting protobuf<5,>=4.25.3 (from mediapipe)\n",
            "  Downloading protobuf-4.25.5-cp37-abi3-manylinux2014_x86_64.whl.metadata (541 bytes)\n",
            "Collecting sounddevice>=0.4.4 (from mediapipe)\n",
            "  Downloading sounddevice-0.5.1-py3-none-any.whl.metadata (1.4 kB)\n",
            "Requirement already satisfied: decorator<5.0,>=4.0.2 in /usr/local/lib/python3.10/dist-packages (from moviepy) (4.4.2)\n",
            "Requirement already satisfied: tqdm<5.0,>=4.11.2 in /usr/local/lib/python3.10/dist-packages (from moviepy) (4.66.5)\n",
            "Requirement already satisfied: requests<3.0,>=2.8.1 in /usr/local/lib/python3.10/dist-packages (from moviepy) (2.32.3)\n",
            "Requirement already satisfied: proglog<=1.0.0 in /usr/local/lib/python3.10/dist-packages (from moviepy) (0.1.10)\n",
            "Requirement already satisfied: imageio<3.0,>=2.5 in /usr/local/lib/python3.10/dist-packages (from moviepy) (2.35.1)\n",
            "Requirement already satisfied: imageio-ffmpeg>=0.2.0 in /usr/local/lib/python3.10/dist-packages (from moviepy) (0.5.1)\n",
            "Requirement already satisfied: pillow>=8.3.2 in /usr/local/lib/python3.10/dist-packages (from imageio<3.0,>=2.5->moviepy) (10.4.0)\n",
            "Requirement already satisfied: setuptools in /usr/local/lib/python3.10/dist-packages (from imageio-ffmpeg>=0.2.0->moviepy) (75.1.0)\n",
            "Requirement already satisfied: charset-normalizer<4,>=2 in /usr/local/lib/python3.10/dist-packages (from requests<3.0,>=2.8.1->moviepy) (3.4.0)\n",
            "Requirement already satisfied: idna<4,>=2.5 in /usr/local/lib/python3.10/dist-packages (from requests<3.0,>=2.8.1->moviepy) (3.10)\n",
            "Requirement already satisfied: urllib3<3,>=1.21.1 in /usr/local/lib/python3.10/dist-packages (from requests<3.0,>=2.8.1->moviepy) (2.2.3)\n",
            "Requirement already satisfied: certifi>=2017.4.17 in /usr/local/lib/python3.10/dist-packages (from requests<3.0,>=2.8.1->moviepy) (2024.8.30)\n",
            "Requirement already satisfied: CFFI>=1.0 in /usr/local/lib/python3.10/dist-packages (from sounddevice>=0.4.4->mediapipe) (1.17.1)\n",
            "Requirement already satisfied: ml-dtypes>=0.2.0 in /usr/local/lib/python3.10/dist-packages (from jax->mediapipe) (0.4.1)\n",
            "Requirement already satisfied: opt-einsum in /usr/local/lib/python3.10/dist-packages (from jax->mediapipe) (3.4.0)\n",
            "Requirement already satisfied: scipy>=1.10 in /usr/local/lib/python3.10/dist-packages (from jax->mediapipe) (1.13.1)\n",
            "Requirement already satisfied: contourpy>=1.0.1 in /usr/local/lib/python3.10/dist-packages (from matplotlib->mediapipe) (1.3.0)\n",
            "Requirement already satisfied: cycler>=0.10 in /usr/local/lib/python3.10/dist-packages (from matplotlib->mediapipe) (0.12.1)\n",
            "Requirement already satisfied: fonttools>=4.22.0 in /usr/local/lib/python3.10/dist-packages (from matplotlib->mediapipe) (4.54.1)\n",
            "Requirement already satisfied: kiwisolver>=1.0.1 in /usr/local/lib/python3.10/dist-packages (from matplotlib->mediapipe) (1.4.7)\n",
            "Requirement already satisfied: packaging>=20.0 in /usr/local/lib/python3.10/dist-packages (from matplotlib->mediapipe) (24.1)\n",
            "Requirement already satisfied: pyparsing>=2.3.1 in /usr/local/lib/python3.10/dist-packages (from matplotlib->mediapipe) (3.2.0)\n",
            "Requirement already satisfied: python-dateutil>=2.7 in /usr/local/lib/python3.10/dist-packages (from matplotlib->mediapipe) (2.8.2)\n",
            "Requirement already satisfied: pycparser in /usr/local/lib/python3.10/dist-packages (from CFFI>=1.0->sounddevice>=0.4.4->mediapipe) (2.22)\n",
            "Requirement already satisfied: six>=1.5 in /usr/local/lib/python3.10/dist-packages (from python-dateutil>=2.7->matplotlib->mediapipe) (1.16.0)\n",
            "Downloading mediapipe-0.10.15-cp310-cp310-manylinux_2_17_x86_64.manylinux2014_x86_64.whl (35.9 MB)\n",
            "\u001b[2K   \u001b[90m━━━━━━━━━━━━━━━━━━━━━━━━━━━━━━━━━━━━━━━━\u001b[0m \u001b[32m35.9/35.9 MB\u001b[0m \u001b[31m22.6 MB/s\u001b[0m eta \u001b[36m0:00:00\u001b[0m\n",
            "\u001b[?25hDownloading protobuf-4.25.5-cp37-abi3-manylinux2014_x86_64.whl (294 kB)\n",
            "\u001b[2K   \u001b[90m━━━━━━━━━━━━━━━━━━━━━━━━━━━━━━━━━━━━━━━━\u001b[0m \u001b[32m294.6/294.6 kB\u001b[0m \u001b[31m21.1 MB/s\u001b[0m eta \u001b[36m0:00:00\u001b[0m\n",
            "\u001b[?25hDownloading sounddevice-0.5.1-py3-none-any.whl (32 kB)\n",
            "Installing collected packages: protobuf, sounddevice, mediapipe\n",
            "  Attempting uninstall: protobuf\n",
            "    Found existing installation: protobuf 3.20.3\n",
            "    Uninstalling protobuf-3.20.3:\n",
            "      Successfully uninstalled protobuf-3.20.3\n",
            "\u001b[31mERROR: pip's dependency resolver does not currently take into account all the packages that are installed. This behaviour is the source of the following dependency conflicts.\n",
            "tensorflow-metadata 1.16.1 requires protobuf<4.21,>=3.20.3; python_version < \"3.11\", but you have protobuf 4.25.5 which is incompatible.\u001b[0m\u001b[31m\n",
            "\u001b[0mSuccessfully installed mediapipe-0.10.15 protobuf-4.25.5 sounddevice-0.5.1\n"
          ]
        }
      ],
      "source": [
        "!pip install opencv-python mediapipe moviepy\n"
      ]
    },
    {
      "cell_type": "code",
      "execution_count": 4,
      "metadata": {
        "id": "UrFJqFHhgu1t"
      },
      "outputs": [],
      "source": [
        "from pathlib import Path\n",
        "import shutil\n",
        "from datetime import datetime\n",
        "import math\n",
        "\n",
        "from scipy.signal import savgol_filter\n",
        "\n",
        "import cv2\n",
        "import mediapipe as mp\n",
        "import numpy as np\n",
        "\n",
        "OUTPUT_VIDEO_WIDTH = 1920\n",
        "OUTPUT_VIDEO_HEIGHT = 1080\n",
        "LEFT_EYE_SHIFT = 480\n",
        "RIGHT_EYE_SHIFT = 480\n",
        "OUTPUT_PATH_TMP = 'output_video_tmp.mp4'\n",
        "EYE_OPEN_THRESHOLD = 0.2\n",
        "RECALC_AREA_FRAMES = 10\n",
        "TARGET_WIDTH = 1280\n",
        "TARGET_HEIGHT = 720\n"
      ]
    },
    {
      "cell_type": "code",
      "execution_count": 5,
      "metadata": {
        "id": "XtgTWmdZDeM8"
      },
      "outputs": [],
      "source": [
        "def get_pupils(landmarks):\n",
        "  left_pupil = (\n",
        "      (landmarks.landmark[33].x + landmarks.landmark[36].x) / 2,\n",
        "      (landmarks.landmark[33].y + landmarks.landmark[36].y) / 2\n",
        "    )\n",
        "\n",
        "  right_pupil = (\n",
        "      (landmarks.landmark[133].x + landmarks.landmark[136].x) / 2,\n",
        "      (landmarks.landmark[133].y + landmarks.landmark[136].y) / 2\n",
        "    )\n",
        "  return left_pupil, right_pupil\n"
      ]
    },
    {
      "cell_type": "code",
      "execution_count": 6,
      "metadata": {
        "id": "xN-XCAteJXfS"
      },
      "outputs": [],
      "source": [
        "def get_eye_aspect_ratio(landmarks):\n",
        "    # Calculate distances for EAR\n",
        "    left_eye_height = (\n",
        "        landmarks.landmark[159].y - landmarks.landmark[145].y +  # Vertical distance\n",
        "        landmarks.landmark[158].y - landmarks.landmark[144].y\n",
        "    )\n",
        "    right_eye_height = (\n",
        "        landmarks.landmark[386].y - landmarks.landmark[374].y +  # Vertical distance\n",
        "        landmarks.landmark[387].y - landmarks.landmark[373].y\n",
        "    )\n",
        "    left_eye_width = landmarks.landmark[36].x - landmarks.landmark[39].x  # Horizontal distance\n",
        "    right_eye_width = landmarks.landmark[123].x - landmarks.landmark[130].x  # Horizontal distance\n",
        "\n",
        "    # Calculate EAR for both eyes\n",
        "    left_eye_ratio = left_eye_height / (2.0 * left_eye_width)\n",
        "    right_eye_ratio = right_eye_height / (2.0 * right_eye_width)\n",
        "\n",
        "    return left_eye_ratio, right_eye_ratio"
      ]
    },
    {
      "cell_type": "code",
      "execution_count": 7,
      "metadata": {
        "id": "bUdcW5XFEatz"
      },
      "outputs": [],
      "source": [
        "def get_eye_center(landmarks):\n",
        "  left_eye_landmarks = [(landmarks.landmark[i].x, landmarks.landmark[i].y) for i in range(33, 39)]\n",
        "  right_eye_landmarks = [(landmarks.landmark[i].x, landmarks.landmark[i].y) for i in range(133, 139)]\n",
        "\n",
        "  left_eye_center = (\n",
        "      sum(x for x, _ in left_eye_landmarks) / len(left_eye_landmarks),\n",
        "      sum(y for _, y in left_eye_landmarks) / len(left_eye_landmarks)\n",
        "      )\n",
        "  right_eye_center = (\n",
        "      sum(x for x, _ in right_eye_landmarks) / len(right_eye_landmarks),\n",
        "      sum(y for _, y in right_eye_landmarks) / len(right_eye_landmarks)\n",
        "      )\n",
        "  return left_eye_center, right_eye_center"
      ]
    },
    {
      "cell_type": "code",
      "execution_count": 8,
      "metadata": {
        "id": "SzYppLPkHb0w"
      },
      "outputs": [],
      "source": [
        "def exponential_smoothing(angles, angle, alpha=0.8):\n",
        "    if angles:\n",
        "        smoothed_angle = alpha * angles[-1] + (1 - alpha) * angle\n",
        "    else:\n",
        "        smoothed_angle = angle  # If no previous angles, just return the current angle\n",
        "    return smoothed_angle\n"
      ]
    },
    {
      "cell_type": "code",
      "execution_count": 9,
      "metadata": {
        "id": "gh2138QTLLqp"
      },
      "outputs": [],
      "source": [
        "def exponential_smoothing_midpoint(midpoints, new_midpoint, alpha=0.8):\n",
        "    if midpoints:\n",
        "        smoothed_midpoint = (\n",
        "            alpha * midpoints[-1][0] + (1 - alpha) * new_midpoint[0],\n",
        "            alpha * midpoints[-1][1] + (1 - alpha) * new_midpoint[1]\n",
        "        )\n",
        "    else:\n",
        "        smoothed_midpoint = new_midpoint  # If no previous midpoints, just return the current midpoint\n",
        "    return smoothed_midpoint\n"
      ]
    },
    {
      "cell_type": "code",
      "execution_count": 10,
      "metadata": {
        "id": "3Z9TcsXOD43c"
      },
      "outputs": [],
      "source": [
        "def get_rotation_matrix(landmarks, angles, midpoints):\n",
        "\n",
        "  # Get eye aspect ratios\n",
        "  left_eye_ratio, right_eye_ratio = get_eye_aspect_ratio(landmarks)\n",
        "\n",
        "  if left_eye_ratio < EYE_OPEN_THRESHOLD and right_eye_ratio < EYE_OPEN_THRESHOLD:\n",
        "    print(\"Eyes are closed.\")\n",
        "    if angles and midpoints:\n",
        "      print('Previous angle was used')\n",
        "      angle = angles[-1]\n",
        "      midpoint = midpoints[-1]\n",
        "\n",
        "  else:\n",
        "    left_pupil, right_pupil = get_pupils(landmarks)\n",
        "    dx = right_pupil[0] - left_pupil[0]\n",
        "    dy = right_pupil[1] - left_pupil[1]\n",
        "    midpoint = (\n",
        "      (left_pupil[0] + right_pupil[0]) / 2,\n",
        "      (left_pupil[1] + right_pupil[1]) / 2\n",
        "    )\n",
        "\n",
        "    angle = math.degrees(math.atan2(dy, dx))\n",
        "    smoothed_angle = exponential_smoothing(angles, angle)\n",
        "    angles.append(smoothed_angle)\n",
        "    smoothed_midpoint = exponential_smoothing_midpoint(midpoints, midpoint)\n",
        "    midpoints.append(smoothed_midpoint)\n",
        "\n",
        "  rotation_matrix = cv2.getRotationMatrix2D(smoothed_midpoint, smoothed_angle, 1.0)\n",
        "  return rotation_matrix, angles, midpoints\n",
        "\n"
      ]
    },
    {
      "cell_type": "code",
      "execution_count": 11,
      "metadata": {
        "id": "sBThSVdT_yOq"
      },
      "outputs": [],
      "source": [
        "def process_frame(frame, landmarks, angles, midpoints):\n",
        "\n",
        "  height, width = frame.shape[:2]\n",
        "\n",
        "  # Create rotation matrix\n",
        "  # rotation_matrix = cv2.getRotationMatrix2D(center, angle, 1.0)\n",
        "  rotation_matrix, angles, midpoints = get_rotation_matrix(landmarks, angles, midpoints)\n",
        "  # Rotate the frame\n",
        "  rotated_frame = cv2.warpAffine(frame, rotation_matrix, (width, height))\n",
        "  # crop the fram\n",
        "  # fill to 1920x1080\n",
        "\n",
        "  return rotated_frame, angles, midpoints"
      ]
    },
    {
      "cell_type": "code",
      "source": [
        "def update_crop_params(landmarks, params):\n",
        "    frame_height = params['frame_height']\n",
        "\n",
        "    left_pupil, right_pupil = get_pupils(landmarks)\n",
        "    print(f'Left pupil: {left_pupil}, Right pupil: {right_pupil}')\n",
        "\n",
        "    dx = right_pupil[0] - left_pupil[0]\n",
        "    dy = right_pupil[1] - left_pupil[1]\n",
        "    midpoint = (\n",
        "      (left_pupil[0] + right_pupil[0]) / 2,\n",
        "      (left_pupil[1] + right_pupil[1]) / 2)\n",
        "\n",
        "    w = int(2 * dx)\n",
        "    h = int(9 / 16 * w)\n",
        "    x = int(midpoint[0] - dx)\n",
        "    y = int(min(frame_height - h, midpoint[1] - 0.5 * h))\n",
        "    print(f'x: {x}, y: {y}, w: {w}, h: {h}')\n",
        "\n",
        "    # params['crop_wide'].append(w)\n",
        "    # params['crop_height'].append(h)\n",
        "    # params['crop_x'].append(x)\n",
        "    # params['crop_y'].append(y)\n",
        "  # new_params = {}\n",
        "    params['crop_wide'].append(200)\n",
        "    params['crop_height'].append(200)\n",
        "    params['crop_x'].append(200)\n",
        "    params['crop_y'].append(200)\n",
        "  # new_params = {}\n",
        "  # params.append(new_params)"
      ],
      "metadata": {
        "id": "YDlINbYgcuPG"
      },
      "execution_count": 12,
      "outputs": []
    },
    {
      "cell_type": "code",
      "source": [
        "def crop_frame(frame, params):\n",
        "  # if not (params['crop_wide'] and params['crop_height'] and params['crop_x'] and params['crop_y']):\n",
        "    # return fram\n",
        "  x = params['crop_x'][-1]\n",
        "  y = params['crop_y'][-1]\n",
        "  w = params['crop_wide'][-1]\n",
        "  h = params['crop_height'][-1]\n",
        "  # if not (params['crop_wide'] and params['crop_height'] and params['crop_x'] and params['crop_y']):\n",
        "    # return frame\n",
        "  frame = frame[y:y + h, x:x + w]\n",
        "  return frame"
      ],
      "metadata": {
        "id": "FzlSeUMcchaB"
      },
      "execution_count": 13,
      "outputs": []
    },
    {
      "cell_type": "code",
      "execution_count": 17,
      "metadata": {
        "id": "ctvLEh3FhMac"
      },
      "outputs": [],
      "source": [
        "def process_video(in_video, out_video, face_mesh, params):\n",
        "    # n_face, n_no_face = 0, 0\n",
        "    # angles = []\n",
        "    # midpoints = []\n",
        "    frames_counter = 0\n",
        "\n",
        "    while True:\n",
        "      ret, frame = in_video.read()\n",
        "      if not ret:\n",
        "          break\n",
        "      rgb_frame = cv2.cvtColor(frame, cv2.COLOR_BGR2RGB)\n",
        "\n",
        "      if not frames_counter:\n",
        "        face_mask_results = face_mesh.process(rgb_frame)\n",
        "        if face_mask_results.multi_face_landmarks:\n",
        "          frames_counter = RECALC_AREA_FRAMES\n",
        "          landmarks = face_mask_results.multi_face_landmarks[0]\n",
        "          update_crop_params(landmarks, params)\n",
        "          # TODO: apply angle transformation and recalc landmarks\n",
        "          # get the crop/matrix/parameters here\n",
        "          # use those parameters or smth to change frame\n",
        "          # new_frame, angles, midpoints = process_frame(frame, landmarks, angles, midpoints)\n",
        "          # out.write(new_frame)\n",
        "        else:\n",
        "          print('Face not found')\n",
        "      else:\n",
        "        frames_counter -= 1\n",
        "\n",
        "      cropped_frame = crop_frame(frame, params)\n",
        "      resized_frame = cv2.resize(cropped_frame, (OUTPUT_VIDEO_WIDTH, OUTPUT_VIDEO_HEIGHT))\n",
        "      out_video.write(resized_frame)\n",
        "\n",
        "    in_video.release()\n",
        "    out_video.release()\n",
        "\n",
        "    return out_video\n"
      ]
    },
    {
      "cell_type": "code",
      "source": [
        "def get_params():\n",
        "  params = {}\n",
        "  params['crop_wide'] = []\n",
        "  params['crop_height'] = []\n",
        "  params['crop_x'] = []\n",
        "  params['crop_y'] = []\n",
        "  return params"
      ],
      "metadata": {
        "id": "GC0kHxY947hl"
      },
      "execution_count": 18,
      "outputs": []
    },
    {
      "cell_type": "code",
      "source": [
        "def get_video_captures(video_path):\n",
        "    params = get_params()\n",
        "\n",
        "    assert Path(video_path).exists(), f\"Video file not found: {video_path}\"\n",
        "    cap = cv2.VideoCapture(video_path)\n",
        "    # FRAME_WIDTH = int(cap.get(cv2.CAP_PROP_FRAME_WIDTH))\n",
        "    FRAME_HEIGHT = int(cap.get(cv2.CAP_PROP_FRAME_HEIGHT))\n",
        "    params['frame_height'] = FRAME_HEIGHT\n",
        "\n",
        "    fps = cap.get(cv2.CAP_PROP_FPS)\n",
        "    # print(f\"FPS: {fps}\")\n",
        "    out_video = get_out_video_writer(fps)\n",
        "\n",
        "    return cap, out_video, params"
      ],
      "metadata": {
        "id": "h1sdHILT6byg"
      },
      "execution_count": 22,
      "outputs": []
    },
    {
      "cell_type": "code",
      "source": [
        "def save_output(out_video, video_path):\n",
        "\n",
        "    output_path = Path(video_path).parent / (Path(video_path).stem + '.mp4')\n",
        "    timestamp = datetime.now().strftime(\"%Y%m%d_%H%M%S\")\n",
        "    output_path = Path(video_path).parent / f\"{Path(video_path).stem}_{timestamp}_processed.mp4\"\n",
        "\n",
        "    shutil.copy(OUTPUT_PATH_TMP, output_path)\n",
        "    # print(f'Saved as {output_path}')\n"
      ],
      "metadata": {
        "id": "Vs9i_kO262Wf"
      },
      "execution_count": 23,
      "outputs": []
    },
    {
      "cell_type": "code",
      "source": [
        "#\n",
        "def crop_videofile(video_path: str, face_mesh):\n",
        "\n",
        "    in_video, out_video, params = get_video_captures(video_path)\n",
        "\n",
        "    out_video = process_video(in_video, out_video, face_mesh, params)\n",
        "\n",
        "    save_output(out_video, video_path)\n"
      ],
      "metadata": {
        "id": "KAGzfXet4r7r"
      },
      "execution_count": 26,
      "outputs": []
    },
    {
      "cell_type": "code",
      "execution_count": 27,
      "metadata": {
        "id": "IlLQVeFgkz3V"
      },
      "outputs": [],
      "source": [
        "def get_out_video_writer(fps):\n",
        "    fourcc = cv2.VideoWriter_fourcc(*'mp4v')\n",
        "    out = cv2.VideoWriter(OUTPUT_PATH_TMP,\n",
        "                          fourcc,\n",
        "                          fps,\n",
        "                          (OUTPUT_VIDEO_WIDTH, OUTPUT_VIDEO_HEIGHT))\n",
        "    return out"
      ]
    },
    {
      "cell_type": "code",
      "execution_count": 28,
      "metadata": {
        "colab": {
          "base_uri": "https://localhost:8080/"
        },
        "id": "7vItXnD3ueck",
        "outputId": "24f2d205-c5ec-4f2a-d70d-12c7d24e6969"
      },
      "outputs": [
        {
          "output_type": "stream",
          "name": "stderr",
          "text": [
            "/usr/local/lib/python3.10/dist-packages/google/protobuf/symbol_database.py:55: UserWarning: SymbolDatabase.GetPrototype() is deprecated. Please use message_factory.GetMessageClass() instead. SymbolDatabase.GetPrototype() will be removed soon.\n",
            "  warnings.warn('SymbolDatabase.GetPrototype() is deprecated. Please '\n"
          ]
        },
        {
          "output_type": "stream",
          "name": "stdout",
          "text": [
            "Left pupil: (0.5457773208618164, 0.2177230343222618), Right pupil: (0.5715020596981049, 0.3057642877101898)\n",
            "x: 0, y: 0, w: 0, h: 0\n",
            "Left pupil: (0.5451674461364746, 0.22365278750658035), Right pupil: (0.5744246244430542, 0.3093353882431984)\n",
            "x: 0, y: 0, w: 0, h: 0\n",
            "Left pupil: (0.5539412796497345, 0.21649093180894852), Right pupil: (0.5806784629821777, 0.3046976625919342)\n",
            "x: 0, y: 0, w: 0, h: 0\n"
          ]
        }
      ],
      "source": [
        "mp_face_mesh = mp.solutions.face_mesh\n",
        "face_mesh = mp_face_mesh.FaceMesh(static_image_mode=False, max_num_faces=1)\n",
        "video_path = '/content/drive/MyDrive/Personal/BUDKA/cropped_short.mp4'\n",
        "crop_videofile(video_path, face_mesh)"
      ]
    },
    {
      "cell_type": "code",
      "source": [
        "for i in dir(face_mesh):\n",
        "  print(f\"{i} - {getattr(face_mesh, i)}\")"
      ],
      "metadata": {
        "colab": {
          "base_uri": "https://localhost:8080/"
        },
        "id": "9RwS4qznksyW",
        "outputId": "c7e5f54a-b24c-487e-8dde-30e5a01e7d79"
      },
      "execution_count": null,
      "outputs": [
        {
          "output_type": "stream",
          "name": "stdout",
          "text": [
            "__class__ - <class 'mediapipe.python.solutions.face_mesh.FaceMesh'>\n",
            "__delattr__ - <method-wrapper '__delattr__' of FaceMesh object at 0x7d91940708e0>\n",
            "__dict__ - {'_input_stream_type_info': {'image': <PacketDataType.IMAGE: 'image'>}, '_output_stream_type_info': {'multi_face_landmarks': <PacketDataType.PROTO_LIST: 'proto_list'>}, '_side_input_type_info': {'num_faces': <PacketDataType.INT: 'int'>, 'with_attention': <PacketDataType.BOOL: 'bool'>, 'use_prev_landmarks': <PacketDataType.BOOL: 'bool'>}, '_graph': <mediapipe.python._framework_bindings.calculator_graph.CalculatorGraph object at 0x7d91944e2a30>, '_simulated_timestamp': 99999, '_graph_outputs': {'multi_face_landmarks': <mediapipe.Packet with timestamp: 99999 and C++ type: ::std::vector<::mediapipe::NormalizedLandmarkList>>}, '_input_side_packets': {'num_faces': <mediapipe.Packet with timestamp: UNSET and C++ type: int>, 'with_attention': <mediapipe.Packet with timestamp: UNSET and C++ type: bool>, 'use_prev_landmarks': <mediapipe.Packet with timestamp: UNSET and C++ type: bool>}}\n",
            "__dir__ - <built-in method __dir__ of FaceMesh object at 0x7d91940708e0>\n",
            "__doc__ - MediaPipe Face Mesh.\n",
            "\n",
            "  MediaPipe Face Mesh processes an RGB image and returns the face landmarks on\n",
            "  each detected face.\n",
            "\n",
            "  Please refer to https://solutions.mediapipe.dev/face_mesh#python-solution-api\n",
            "  for usage examples.\n",
            "  \n",
            "__enter__ - <bound method SolutionBase.__enter__ of <mediapipe.python.solutions.face_mesh.FaceMesh object at 0x7d91940708e0>>\n",
            "__eq__ - <method-wrapper '__eq__' of FaceMesh object at 0x7d91940708e0>\n",
            "__exit__ - <bound method SolutionBase.__exit__ of <mediapipe.python.solutions.face_mesh.FaceMesh object at 0x7d91940708e0>>\n",
            "__format__ - <built-in method __format__ of FaceMesh object at 0x7d91940708e0>\n",
            "__ge__ - <method-wrapper '__ge__' of FaceMesh object at 0x7d91940708e0>\n",
            "__getattribute__ - <method-wrapper '__getattribute__' of FaceMesh object at 0x7d91940708e0>\n",
            "__gt__ - <method-wrapper '__gt__' of FaceMesh object at 0x7d91940708e0>\n",
            "__hash__ - <method-wrapper '__hash__' of FaceMesh object at 0x7d91940708e0>\n",
            "__init__ - <bound method FaceMesh.__init__ of <mediapipe.python.solutions.face_mesh.FaceMesh object at 0x7d91940708e0>>\n",
            "__init_subclass__ - <built-in method __init_subclass__ of type object at 0x5816183aa230>\n",
            "__le__ - <method-wrapper '__le__' of FaceMesh object at 0x7d91940708e0>\n",
            "__lt__ - <method-wrapper '__lt__' of FaceMesh object at 0x7d91940708e0>\n",
            "__module__ - mediapipe.python.solutions.face_mesh\n",
            "__ne__ - <method-wrapper '__ne__' of FaceMesh object at 0x7d91940708e0>\n",
            "__new__ - <built-in method __new__ of type object at 0x58161106e800>\n",
            "__reduce__ - <built-in method __reduce__ of FaceMesh object at 0x7d91940708e0>\n",
            "__reduce_ex__ - <built-in method __reduce_ex__ of FaceMesh object at 0x7d91940708e0>\n",
            "__repr__ - <method-wrapper '__repr__' of FaceMesh object at 0x7d91940708e0>\n",
            "__setattr__ - <method-wrapper '__setattr__' of FaceMesh object at 0x7d91940708e0>\n",
            "__sizeof__ - <built-in method __sizeof__ of FaceMesh object at 0x7d91940708e0>\n",
            "__str__ - <method-wrapper '__str__' of FaceMesh object at 0x7d91940708e0>\n",
            "__subclasshook__ - <built-in method __subclasshook__ of type object at 0x5816183aa230>\n",
            "__weakref__ - None\n",
            "_get_packet_content - <bound method SolutionBase._get_packet_content of <mediapipe.python.solutions.face_mesh.FaceMesh object at 0x7d91940708e0>>\n",
            "_graph - <mediapipe.python._framework_bindings.calculator_graph.CalculatorGraph object at 0x7d91944e2a30>\n",
            "_graph_outputs - {'multi_face_landmarks': <mediapipe.Packet with timestamp: 99999 and C++ type: ::std::vector<::mediapipe::NormalizedLandmarkList>>}\n",
            "_initialize_graph_interface - <bound method SolutionBase._initialize_graph_interface of <mediapipe.python.solutions.face_mesh.FaceMesh object at 0x7d91940708e0>>\n",
            "_input_side_packets - {'num_faces': <mediapipe.Packet with timestamp: UNSET and C++ type: int>, 'with_attention': <mediapipe.Packet with timestamp: UNSET and C++ type: bool>, 'use_prev_landmarks': <mediapipe.Packet with timestamp: UNSET and C++ type: bool>}\n",
            "_input_stream_type_info - {'image': <PacketDataType.IMAGE: 'image'>}\n",
            "_make_packet - <bound method SolutionBase._make_packet of <mediapipe.python.solutions.face_mesh.FaceMesh object at 0x7d91940708e0>>\n",
            "_modify_calculator_options - <bound method SolutionBase._modify_calculator_options of <mediapipe.python.solutions.face_mesh.FaceMesh object at 0x7d91940708e0>>\n",
            "_output_stream_type_info - {'multi_face_landmarks': <PacketDataType.PROTO_LIST: 'proto_list'>}\n",
            "_set_extension - <bound method SolutionBase._set_extension of <mediapipe.python.solutions.face_mesh.FaceMesh object at 0x7d91940708e0>>\n",
            "_side_input_type_info - {'num_faces': <PacketDataType.INT: 'int'>, 'with_attention': <PacketDataType.BOOL: 'bool'>, 'use_prev_landmarks': <PacketDataType.BOOL: 'bool'>}\n",
            "_simulated_timestamp - 99999\n",
            "close - <bound method SolutionBase.close of <mediapipe.python.solutions.face_mesh.FaceMesh object at 0x7d91940708e0>>\n",
            "create_graph_options - <bound method SolutionBase.create_graph_options of <mediapipe.python.solutions.face_mesh.FaceMesh object at 0x7d91940708e0>>\n",
            "process - <bound method FaceMesh.process of <mediapipe.python.solutions.face_mesh.FaceMesh object at 0x7d91940708e0>>\n",
            "reset - <bound method SolutionBase.reset of <mediapipe.python.solutions.face_mesh.FaceMesh object at 0x7d91940708e0>>\n"
          ]
        }
      ]
    },
    {
      "cell_type": "code",
      "source": [
        "help(face_mesh.process)"
      ],
      "metadata": {
        "colab": {
          "base_uri": "https://localhost:8080/"
        },
        "id": "gQErcmc1k6p4",
        "outputId": "2e0d39d6-7ce4-47e9-c780-7fe13a2e4d9e"
      },
      "execution_count": null,
      "outputs": [
        {
          "output_type": "stream",
          "name": "stdout",
          "text": [
            "Help on method process in module mediapipe.python.solutions.face_mesh:\n",
            "\n",
            "process(image: numpy.ndarray) -> <function NamedTuple at 0x7d92d7d7ae60> method of mediapipe.python.solutions.face_mesh.FaceMesh instance\n",
            "    Processes an RGB image and returns the face landmarks on each detected face.\n",
            "    \n",
            "    Args:\n",
            "      image: An RGB image represented as a numpy ndarray.\n",
            "    \n",
            "    Raises:\n",
            "      RuntimeError: If the underlying graph throws any error.\n",
            "      ValueError: If the input image is not three channel RGB.\n",
            "    \n",
            "    Returns:\n",
            "      A NamedTuple object with a \"multi_face_landmarks\" field that contains the\n",
            "      face landmarks on each detected face.\n",
            "\n"
          ]
        }
      ]
    },
    {
      "cell_type": "code",
      "source": [
        "for i in dir(mp_face_mesh):\n",
        "  print(f\"{i} - {getattr(mp_face_mesh, i)}\")"
      ],
      "metadata": {
        "id": "0N3hYPxU3z_i",
        "colab": {
          "base_uri": "https://localhost:8080/"
        },
        "outputId": "7ae5ccb4-e4f0-4d87-9446-a78bff79c12a"
      },
      "execution_count": null,
      "outputs": [
        {
          "output_type": "stream",
          "name": "stdout",
          "text": [
            "FACEMESH_CONTOURS - frozenset({(270, 409), (176, 149), (37, 0), (84, 17), (318, 324), (293, 334), (386, 385), (7, 163), (33, 246), (17, 314), (374, 380), (251, 389), (390, 373), (267, 269), (295, 285), (389, 356), (173, 133), (33, 7), (377, 152), (158, 157), (405, 321), (54, 103), (263, 466), (324, 308), (67, 109), (409, 291), (157, 173), (454, 323), (388, 387), (78, 191), (148, 176), (311, 310), (39, 37), (249, 390), (144, 145), (402, 318), (80, 81), (310, 415), (153, 154), (384, 398), (397, 365), (234, 127), (103, 67), (282, 295), (338, 297), (378, 400), (127, 162), (321, 375), (375, 291), (317, 402), (81, 82), (154, 155), (91, 181), (334, 296), (297, 332), (269, 270), (150, 136), (109, 10), (356, 454), (58, 132), (312, 311), (152, 148), (415, 308), (161, 160), (296, 336), (65, 55), (61, 146), (78, 95), (380, 381), (398, 362), (361, 288), (246, 161), (162, 21), (0, 267), (82, 13), (132, 93), (314, 405), (10, 338), (178, 87), (387, 386), (381, 382), (70, 63), (61, 185), (14, 317), (105, 66), (300, 293), (382, 362), (88, 178), (185, 40), (46, 53), (284, 251), (400, 377), (136, 172), (323, 361), (13, 312), (21, 54), (172, 58), (373, 374), (163, 144), (276, 283), (53, 52), (365, 379), (379, 378), (146, 91), (263, 249), (283, 282), (87, 14), (145, 153), (155, 133), (93, 234), (66, 107), (95, 88), (159, 158), (52, 65), (332, 284), (40, 39), (191, 80), (63, 105), (181, 84), (466, 388), (149, 150), (288, 397), (160, 159), (385, 384)})\n",
            "FACEMESH_FACE_OVAL - frozenset({(176, 149), (297, 332), (150, 136), (109, 10), (356, 454), (58, 132), (152, 148), (361, 288), (162, 21), (251, 389), (132, 93), (10, 338), (389, 356), (284, 251), (400, 377), (136, 172), (377, 152), (323, 361), (54, 103), (21, 54), (172, 58), (67, 109), (454, 323), (365, 379), (379, 378), (148, 176), (93, 234), (332, 284), (397, 365), (338, 297), (149, 150), (288, 397), (234, 127), (103, 67), (378, 400), (127, 162)})\n",
            "FACEMESH_IRISES - frozenset({(475, 476), (477, 474), (469, 470), (472, 469), (471, 472), (474, 475), (476, 477), (470, 471)})\n",
            "FACEMESH_LEFT_EYE - frozenset({(374, 380), (390, 373), (249, 390), (385, 384), (373, 374), (263, 466), (387, 386), (381, 382), (384, 398), (466, 388), (386, 385), (388, 387), (263, 249), (380, 381), (398, 362), (382, 362)})\n",
            "FACEMESH_LEFT_EYEBROW - frozenset({(334, 296), (276, 283), (293, 334), (295, 285), (296, 336), (282, 295), (283, 282), (300, 293)})\n",
            "FACEMESH_LEFT_IRIS - frozenset({(476, 477), (475, 476), (477, 474), (474, 475)})\n",
            "FACEMESH_LIPS - frozenset({(270, 409), (317, 402), (81, 82), (91, 181), (37, 0), (84, 17), (269, 270), (321, 375), (318, 324), (312, 311), (415, 308), (17, 314), (61, 146), (78, 95), (0, 267), (82, 13), (314, 405), (178, 87), (267, 269), (61, 185), (14, 317), (88, 178), (185, 40), (405, 321), (13, 312), (324, 308), (409, 291), (146, 91), (87, 14), (78, 191), (95, 88), (311, 310), (39, 37), (40, 39), (402, 318), (191, 80), (80, 81), (310, 415), (181, 84), (375, 291)})\n",
            "FACEMESH_NOSE - frozenset({(294, 278), (5, 4), (220, 115), (344, 440), (45, 220), (197, 195), (4, 45), (19, 94), (6, 197), (98, 97), (168, 6), (94, 2), (195, 5), (64, 98), (275, 4), (326, 327), (278, 344), (440, 275), (4, 1), (327, 294), (115, 48), (48, 64), (1, 19), (2, 326), (97, 2)})\n",
            "FACEMESH_NUM_LANDMARKS - 468\n",
            "FACEMESH_NUM_LANDMARKS_WITH_IRISES - 478\n",
            "FACEMESH_RIGHT_EYE - frozenset({(154, 155), (33, 7), (246, 161), (159, 158), (144, 145), (173, 133), (158, 157), (163, 144), (153, 154), (7, 163), (161, 160), (157, 173), (33, 246), (160, 159), (145, 153), (155, 133)})\n",
            "FACEMESH_RIGHT_EYEBROW - frozenset({(46, 53), (66, 107), (52, 65), (53, 52), (63, 105), (70, 63), (65, 55), (105, 66)})\n",
            "FACEMESH_RIGHT_IRIS - frozenset({(469, 470), (472, 469), (471, 472), (470, 471)})\n",
            "FACEMESH_TESSELATION - frozenset({(18, 17), (82, 38), (8, 9), (456, 248), (167, 2), (303, 271), (69, 104), (253, 450), (41, 42), (315, 16), (73, 74), (339, 373), (258, 385), (105, 63), (219, 48), (304, 272), (236, 217), (231, 22), (85, 84), (365, 367), (237, 218), (243, 112), (436, 427), (409, 410), (248, 456), (330, 266), (136, 135), (88, 95), (394, 430), (107, 108), (118, 117), (439, 438), (442, 443), (260, 466), (115, 48), (342, 276), (121, 128), (200, 421), (113, 124), (132, 137), (23, 230), (343, 357), (443, 444), (62, 78), (26, 155), (228, 110), (432, 434), (364, 379), (325, 308), (424, 430), (36, 205), (363, 420), (21, 162), (328, 462), (419, 351), (366, 345), (193, 8), (363, 456), (183, 80), (307, 375), (94, 2), (333, 284), (17, 313), (185, 40), (44, 1), (291, 287), (411, 352), (20, 238), (59, 166), (272, 310), (420, 437), (387, 260), (130, 226), (51, 45), (175, 377), (202, 214), (353, 383), (339, 448), (291, 408), (466, 260), (264, 454), (457, 440), (355, 429), (96, 89), (128, 121), (187, 207), (360, 278), (306, 307), (446, 467), (165, 39), (337, 151), (168, 193), (73, 41), (318, 403), (263, 467), (283, 445), (74, 42), (201, 83), (65, 222), (37, 11), (429, 355), (272, 408), (179, 180), (100, 36), (158, 157), (438, 440), (358, 331), (281, 456), (136, 138), (314, 404), (417, 8), (34, 127), (367, 416), (180, 181), (426, 322), (419, 197), (457, 309), (215, 138), (242, 241), (33, 247), (53, 225), (126, 209), (467, 359), (224, 223), (271, 304), (97, 2), (183, 191), (202, 204), (95, 78), (246, 247), (177, 147), (357, 343), (65, 55), (116, 137), (135, 150), (382, 256), (199, 171), (298, 293), (16, 315), (204, 106), (149, 170), (150, 135), (403, 315), (61, 57), (205, 187), (44, 4), (358, 429), (277, 355), (438, 309), (42, 80), (236, 174), (128, 232), (302, 268), (313, 314), (240, 64), (291, 375), (260, 387), (113, 225), (107, 65), (247, 225), (346, 347), (44, 125), (378, 379), (466, 263), (250, 459), (50, 205), (111, 35), (76, 77), (122, 193), (209, 198), (201, 194), (408, 407), (285, 336), (2, 393), (243, 190), (336, 9), (234, 227), (293, 276), (221, 28), (57, 185), (217, 174), (131, 134), (344, 278), (343, 399), (28, 158), (128, 245), (463, 464), (443, 257), (394, 364), (164, 167), (10, 109), (196, 236), (429, 358), (174, 217), (452, 341), (2, 370), (84, 180), (320, 307), (0, 37), (250, 328), (101, 119), (41, 74), (399, 456), (13, 12), (218, 115), (343, 412), (16, 17), (55, 8), (107, 55), (153, 22), (440, 344), (393, 269), (364, 434), (38, 41), (296, 336), (68, 63), (402, 317), (456, 437), (253, 374), (254, 339), (67, 104), (392, 309), (145, 23), (63, 70), (403, 318), (127, 234), (415, 292), (54, 21), (168, 6), (72, 38), (204, 194), (83, 84), (282, 293), (302, 271), (120, 231), (434, 427), (320, 405), (426, 423), (441, 286), (145, 144), (341, 464), (208, 200), (250, 462), (112, 232), (258, 286), (418, 424), (160, 159), (286, 384), (421, 200), (274, 1), (200, 201), (166, 59), (111, 123), (211, 210), (330, 347), (422, 430), (214, 135), (280, 346), (107, 9), (265, 446), (244, 243), (417, 351), (110, 163), (450, 348), (396, 377), (245, 244), (83, 182), (8, 417), (451, 349), (203, 98), (376, 435), (101, 50), (345, 447), (412, 357), (238, 241), (90, 77), (369, 395), (276, 353), (253, 449), (359, 467), (279, 358), (315, 15), (433, 416), (299, 336), (46, 156), (167, 37), (460, 290), (311, 310), (410, 432), (357, 277), (35, 226), (304, 271), (189, 55), (314, 315), (108, 67), (1, 4), (4, 275), (205, 36), (156, 143), (436, 426), (223, 53), (461, 370), (23, 144), (29, 224), (244, 112), (348, 349), (340, 345), (122, 6), (401, 361), (228, 24), (252, 381), (37, 164), (192, 187), (177, 58), (410, 409), (316, 402), (381, 382), (429, 279), (140, 176), (26, 154), (434, 394), (52, 63), (79, 166), (72, 41), (71, 162), (244, 233), (222, 65), (214, 210), (354, 370), (140, 32), (30, 160), (212, 57), (444, 443), (7, 33), (301, 251), (213, 138), (170, 176), (17, 83), (268, 302), (32, 211), (331, 358), (186, 40), (105, 52), (457, 354), (395, 379), (375, 321), (325, 320), (317, 316), (274, 354), (96, 88), (15, 14), (467, 260), (232, 128), (404, 320), (350, 349), (342, 265), (74, 185), (314, 17), (146, 61), (247, 113), (405, 321), (256, 341), (283, 444), (409, 291), (74, 41), (78, 191), (245, 188), (103, 104), (19, 370), (19, 141), (280, 411), (220, 131), (85, 86), (372, 265), (237, 220), (204, 43), (118, 119), (210, 202), (290, 460), (450, 449), (83, 18), (197, 3), (315, 404), (461, 458), (169, 170), (246, 161), (32, 201), (236, 196), (409, 304), (295, 282), (395, 369), (181, 180), (353, 372), (139, 34), (432, 436), (370, 461), (184, 42), (96, 78), (113, 247), (326, 391), (147, 123), (126, 100), (205, 101), (452, 350), (71, 21), (16, 85), (297, 333), (136, 150), (260, 445), (34, 139), (46, 113), (17, 315), (104, 54), (383, 372), (417, 285), (150, 170), (20, 60), (39, 73), (45, 4), (438, 344), (37, 0), (177, 123), (336, 296), (102, 129), (134, 198), (175, 199), (302, 303), (293, 334), (87, 86), (99, 240), (240, 99), (364, 394), (64, 102), (256, 452), (337, 297), (383, 264), (141, 242), (188, 174), (120, 119), (207, 187), (467, 263), (30, 225), (131, 48), (425, 266), (121, 120), (85, 17), (28, 157), (337, 9), (342, 353), (154, 153), (361, 366), (227, 137), (52, 105), (118, 50), (217, 209), (424, 422), (249, 390), (196, 6), (26, 232), (287, 273), (210, 169), (350, 329), (62, 191), (276, 300), (248, 281), (368, 383), (427, 432), (453, 341), (372, 353), (357, 453), (101, 118), (321, 307), (407, 310), (266, 371), (420, 429), (306, 407), (253, 252), (224, 225), (112, 133), (356, 264), (370, 19), (254, 253), (219, 115), (225, 46), (124, 143), (289, 439), (13, 312), (253, 373), (154, 22), (319, 318), (363, 281), (169, 150), (355, 277), (354, 461), (267, 164), (320, 319), (39, 40), (277, 357), (63, 105), (189, 244), (34, 227), (120, 230), (293, 301), (60, 99), (72, 73), (283, 293), (307, 321), (321, 405), (93, 132), (183, 62), (408, 409), (151, 338), (186, 216), (151, 109), (245, 122), (189, 221), (335, 424), (442, 258), (441, 442), (114, 47), (173, 133), (452, 451), (106, 43), (305, 289), (362, 414), (443, 259), (294, 279), (258, 442), (57, 43), (256, 252), (259, 443), (46, 70), (420, 360), (126, 142), (371, 355), (112, 244), (431, 369), (47, 114), (100, 126), (12, 13), (91, 77), (23, 22), (51, 4), (48, 115), (254, 449), (160, 27), (353, 342), (434, 416), (266, 423), (4, 274), (316, 15), (4, 45), (24, 23), (80, 183), (341, 453), (109, 67), (174, 196), (66, 105), (89, 88), (29, 223), (164, 2), (462, 370), (328, 290), (400, 395), (181, 91), (252, 380), (24, 144), (313, 18), (354, 19), (185, 61), (90, 89), (116, 227), (168, 417), (329, 371), (156, 34), (450, 252), (8, 285), (164, 267), (168, 8), (153, 145), (361, 323), (285, 413), (346, 280), (117, 228), (130, 247), (140, 211), (426, 425), (53, 63), (245, 233), (2, 97), (216, 206), (195, 3), (459, 458), (178, 179), (276, 342), (235, 75), (399, 412), (185, 74), (170, 211), (465, 357), (222, 221), (75, 59), (229, 117), (422, 432), (327, 423), (275, 4), (12, 268), (267, 0), (64, 49), (244, 245), (115, 131), (376, 401), (171, 32), (161, 247), (26, 22), (454, 356), (166, 218), (420, 363), (233, 128), (193, 55), (278, 279), (405, 320), (334, 296), (279, 360), (201, 32), (220, 45), (315, 17), (354, 274), (167, 39), (51, 236), (3, 196), (108, 69), (128, 47), (266, 426), (99, 20), (259, 387), (137, 132), (273, 321), (394, 431), (285, 295), (437, 429), (83, 17), (315, 403), (449, 254), (461, 457), (260, 467), (359, 446), (184, 185), (411, 376), (263, 249), (462, 458), (215, 172), (52, 65), (247, 161), (191, 80), (424, 431), (36, 206), (262, 369), (296, 282), (396, 369), (134, 220), (335, 273), (214, 212), (193, 189), (364, 416), (270, 409), (444, 445), (229, 228), (330, 280), (456, 419), (260, 444), (188, 196), (406, 418), (30, 247), (398, 414), (17, 314), (210, 214), (17, 85), (423, 358), (63, 52), (19, 274), (272, 311), (50, 118), (14, 15), (180, 84), (5, 195), (240, 98), (439, 344), (256, 451), (123, 187), (15, 16), (96, 90), (141, 241), (6, 196), (360, 279), (347, 346), (198, 217), (318, 319), (358, 355), (418, 406), (115, 219), (190, 133), (77, 76), (110, 24), (48, 49), (80, 81), (333, 298), (353, 276), (141, 97), (373, 254), (69, 108), (418, 262), (463, 413), (294, 455), (21, 68), (81, 82), (118, 229), (284, 298), (371, 266), (384, 385), (231, 26), (395, 394), (322, 410), (248, 195), (361, 401), (214, 202), (119, 230), (111, 226), (43, 91), (383, 276), (168, 351), (449, 450), (314, 405), (55, 65), (182, 106), (394, 434), (393, 326), (210, 204), (211, 169), (450, 451), (203, 165), (22, 153), (143, 34), (409, 270), (7, 110), (448, 261), (213, 215), (371, 423), (64, 235), (9, 336), (278, 344), (89, 179), (236, 198), (336, 285), (181, 182), (194, 201), (66, 52), (151, 10), (123, 177), (341, 256), (455, 278), (326, 393), (257, 442), (269, 267), (203, 142), (238, 20), (268, 271), (254, 373), (414, 362), (305, 455), (357, 465), (189, 243), (42, 81), (286, 441), (179, 86), (217, 198), (84, 83), (456, 363), (214, 192), (326, 370), (107, 66), (247, 226), (88, 89), (27, 222), (120, 121), (99, 98), (279, 294), (151, 108), (75, 235), (150, 149), (388, 466), (129, 126), (447, 372), (366, 447), (70, 156), (56, 221), (171, 208), (190, 221), (28, 159), (435, 397), (54, 68), (368, 264), (214, 169), (294, 278), (221, 65), (206, 165), (29, 160), (281, 195), (33, 130), (447, 264), (298, 284), (278, 455), (201, 208), (427, 434), (360, 344), (321, 273), (379, 394), (265, 372), (274, 457), (101, 120), (182, 194), (227, 116), (253, 254), (352, 376), (4, 44), (351, 417), (350, 452), (283, 282), (194, 204), (55, 9), (106, 91), (410, 322), (48, 235), (316, 315), (367, 397), (427, 411), (319, 320), (193, 244), (398, 384), (331, 294), (313, 17), (297, 338), (164, 37), (403, 319), (349, 348), (47, 126), (8, 55), (147, 213), (320, 321), (227, 93), (134, 131), (44, 237), (393, 391), (439, 278), (451, 252), (120, 232), (287, 409), (221, 55), (385, 386), (347, 280), (57, 212), (58, 177), (257, 386), (216, 205), (208, 201), (386, 387), (459, 457), (137, 177), (391, 322), (49, 64), (55, 107), (308, 324), (372, 345), (11, 37), (431, 394), (171, 175), (330, 348), (156, 46), (11, 302), (280, 347), (452, 453), (352, 366), (12, 38), (64, 48), (22, 231), (414, 463), (448, 339), (422, 287), (59, 235), (13, 268), (298, 251), (237, 241), (68, 54), (120, 101), (92, 39), (43, 146), (377, 400), (238, 242), (91, 43), (369, 396), (301, 298), (286, 398), (346, 449), (220, 44), (299, 337), (358, 423), (131, 115), (3, 195), (23, 24), (416, 364), (123, 111), (160, 29), (326, 327), (266, 425), (345, 340), (53, 52), (98, 203), (411, 434), (358, 279), (3, 51), (261, 346), (367, 364), (66, 107), (86, 85), (445, 283), (24, 110), (23, 145), (89, 90), (449, 253), (340, 346), (235, 64), (67, 108), (228, 25), (119, 118), (250, 309), (90, 91), (269, 322), (264, 356), (84, 17), (316, 403), (407, 292), (426, 391), (399, 437), (212, 202), (175, 171), (117, 50), (374, 380), (165, 206), (205, 50), (185, 184), (30, 161), (445, 260), (184, 76), (195, 5), (186, 185), (446, 261), (357, 412), (392, 290), (225, 113), (17, 84), (189, 190), (384, 286), (329, 350), (429, 437), (241, 237), (19, 44), (165, 98), (219, 218), (4, 1), (50, 117), (222, 223), (422, 434), (175, 148), (198, 131), (204, 211), (68, 21), (381, 252), (462, 326), (60, 166), (174, 188), (414, 286), (339, 255), (115, 218), (411, 280), (181, 83), (401, 352), (333, 297), (46, 124), (373, 253), (71, 68), (424, 335), (76, 146), (49, 129), (69, 107), (335, 406), (148, 171), (460, 294), (192, 214), (446, 359), (391, 423), (105, 66), (410, 436), (110, 144), (249, 339), (163, 7), (273, 287), (45, 51), (225, 247), (373, 374), (38, 12), (263, 359), (173, 56), (159, 158), (461, 459), (111, 117), (211, 204), (225, 224), (151, 9), (370, 462), (55, 221), (156, 124), (196, 197), (47, 217), (285, 9), (208, 171), (280, 425), (164, 393), (258, 257), (229, 230), (389, 368), (139, 156), (353, 265), (412, 351), (218, 220), (304, 409), (311, 268), (370, 354), (288, 401), (179, 85), (159, 27), (190, 243), (196, 174), (295, 296), (142, 203), (173, 190), (193, 168), (325, 324), (425, 411), (391, 269), (99, 97), (347, 348), (366, 361), (2, 164), (131, 49), (26, 112), (380, 381), (211, 194), (104, 68), (124, 46), (234, 34), (413, 414), (432, 427), (452, 256), (177, 137), (43, 57), (276, 445), (248, 197), (209, 126), (142, 36), (226, 35), (2, 141), (237, 44), (435, 288), (129, 102), (273, 375), (166, 20), (425, 280), (77, 91), (461, 462), (306, 408), (247, 130), (206, 92), (193, 122), (200, 18), (157, 56), (352, 411), (46, 225), (345, 372), (264, 447), (436, 410), (17, 18), (28, 27), (235, 240), (128, 114), (134, 45), (198, 209), (64, 129), (459, 250), (192, 135), (112, 26), (404, 314), (297, 337), (428, 262), (81, 38), (51, 195), (311, 271), (442, 282), (179, 88), (252, 450), (191, 62), (84, 85), (203, 36), (443, 283), (121, 232), (321, 406), (226, 25), (323, 366), (117, 118), (122, 196), (191, 183), (397, 288), (383, 353), (161, 160), (25, 7), (11, 72), (239, 79), (305, 290), (464, 463), (22, 230), (183, 184), (143, 111), (442, 295), (241, 125), (12, 302), (426, 436), (13, 38), (428, 396), (127, 139), (120, 100), (259, 444), (378, 395), (183, 76), (260, 259), (427, 436), (346, 448), (306, 375), (255, 446), (36, 142), (369, 431), (51, 5), (435, 376), (282, 283), (462, 250), (347, 449), (205, 216), (64, 240), (267, 11), (351, 419), (431, 262), (411, 433), (143, 124), (190, 56), (315, 316), (346, 340), (116, 143), (316, 317), (327, 326), (206, 36), (192, 138), (464, 417), (149, 176), (356, 389), (349, 350), (102, 64), (47, 128), (81, 41), (147, 215), (450, 253), (25, 226), (467, 342), (332, 297), (464, 453), (270, 322), (117, 229), (282, 296), (129, 203), (155, 112), (434, 430), (345, 352), (465, 417), (248, 419), (61, 184), (216, 207), (307, 325), (202, 43), (313, 405), (79, 238), (39, 165), (177, 215), (392, 289), (329, 349), (201, 200), (87, 178), (448, 449), (172, 136), (266, 329), (274, 4), (165, 97), (226, 113), (56, 190), (323, 454), (264, 368), (229, 118), (75, 60), (88, 179), (415, 308), (293, 282), (212, 214), (204, 210), (230, 119), (176, 148), (188, 122), (339, 254), (42, 184), (342, 445), (199, 396), (166, 219), (419, 399), (30, 29), (15, 315), (236, 134), (301, 300), (333, 332), (352, 345), (52, 53), (166, 75), (192, 213), (3, 197), (77, 146), (363, 360), (334, 333), (6, 351), (6, 122), (406, 321), (284, 332), (350, 277), (8, 168), (129, 49), (0, 164), (300, 276), (86, 87), (226, 247), (119, 120), (37, 167), (111, 116), (451, 450), (335, 418), (40, 92), (52, 66), (285, 417), (224, 29), (330, 425), (285, 8), (236, 3), (307, 292), (187, 147), (139, 70), (185, 186), (270, 410), (456, 420), (407, 415), (294, 358), (78, 96), (259, 257), (218, 219), (417, 465), (304, 408), (56, 157), (63, 53), (349, 330), (241, 239), (261, 446), (281, 275), (396, 262), (441, 413), (327, 391), (100, 120), (346, 261), (348, 450), (340, 446), (180, 85), (252, 253), (137, 123), (349, 451), (462, 328), (455, 289), (6, 197), (377, 369), (115, 220), (35, 111), (383, 300), (110, 25), (437, 420), (333, 299), (252, 374), (31, 226), (71, 70), (104, 67), (49, 131), (463, 414), (118, 230), (104, 103), (155, 154), (220, 134), (262, 396), (70, 46), (436, 432), (167, 164), (170, 169), (211, 170), (77, 90), (22, 154), (237, 79), (197, 6), (143, 35), (146, 77), (434, 364), (72, 11), (9, 337), (465, 351), (89, 180), (255, 249), (295, 285), (90, 181), (91, 146), (143, 156), (18, 421), (232, 121), (425, 436), (257, 443), (29, 27), (327, 358), (433, 376), (299, 296), (259, 260), (405, 314), (158, 28), (217, 114), (197, 248), (124, 35), (375, 291), (321, 320), (324, 325), (336, 299), (62, 96), (22, 23), (281, 363), (443, 282), (20, 99), (124, 156), (464, 341), (27, 223), (125, 237), (148, 140), (279, 331), (32, 194), (44, 19), (244, 193), (439, 289), (453, 452), (12, 72), (343, 437), (94, 370), (94, 141), (429, 360), (444, 259), (322, 270), (121, 100), (199, 428), (379, 395), (32, 171), (322, 391), (389, 301), (279, 429), (394, 379), (453, 465), (380, 252), (416, 434), (362, 463), (309, 457), (6, 419), (193, 245), (413, 285), (310, 272), (163, 110), (29, 30), (69, 66), (114, 217), (328, 326), (431, 418), (98, 129), (171, 199), (303, 269), (91, 90), (156, 70), (282, 295), (287, 410), (73, 72), (194, 182), (408, 291), (221, 56), (126, 47), (137, 93), (49, 209), (257, 387), (416, 411), (176, 170), (95, 96), (235, 219), (401, 288), (346, 352), (79, 237), (218, 166), (430, 431), (289, 455), (82, 13), (108, 151), (355, 437), (342, 467), (276, 293), (308, 325), (427, 425), (97, 141), (431, 395), (423, 391), (190, 189), (330, 349), (162, 127), (359, 263), (464, 465), (376, 352), (223, 222), (435, 401), (230, 118), (222, 28), (408, 304), (50, 187), (42, 183), (183, 42), (187, 192), (25, 130), (265, 340), (92, 40), (371, 358), (211, 140), (35, 143), (15, 85), (142, 126), (195, 281), (440, 457), (221, 190), (386, 257), (277, 350), (251, 298), (383, 368), (255, 448), (290, 289), (317, 14), (103, 54), (414, 441), (160, 30), (174, 114), (326, 328), (460, 328), (152, 175), (124, 113), (367, 365), (98, 240), (64, 98), (262, 428), (396, 428), (122, 188), (327, 328), (80, 42), (265, 353), (38, 82), (282, 442), (209, 49), (73, 39), (25, 228), (302, 11), (100, 142), (447, 366), (460, 305), (451, 256), (1, 19), (421, 313), (370, 2), (434, 432), (321, 375), (308, 292), (179, 178), (39, 167), (459, 461), (46, 63), (391, 326), (417, 464), (197, 195), (230, 229), (356, 368), (349, 329), (241, 238), (326, 462), (52, 222), (401, 376), (172, 138), (245, 128), (288, 435), (382, 362), (407, 306), (187, 123), (292, 325), (212, 216), (411, 425), (143, 116), (349, 450), (216, 186), (296, 295), (18, 201), (247, 30), (262, 418), (14, 316), (14, 87), (114, 174), (195, 248), (300, 301), (162, 71), (181, 84), (423, 371), (369, 400), (330, 329), (142, 129), (188, 245), (333, 334), (334, 299), (274, 19), (251, 301), (264, 383), (76, 183), (355, 358), (434, 422), (286, 258), (372, 447), (31, 117), (438, 392), (38, 13), (1, 274), (168, 122), (121, 47), (7, 25), (138, 136), (262, 431), (97, 98), (369, 377), (463, 341), (401, 366), (146, 76), (9, 107), (451, 452), (238, 79), (462, 461), (132, 177), (441, 258), (339, 390), (204, 202), (90, 180), (410, 270), (355, 371), (176, 140), (27, 160), (447, 454), (114, 128), (466, 467), (188, 114), (141, 2), (91, 181), (78, 62), (232, 120), (48, 219), (400, 378), (207, 212), (406, 421), (199, 208), (439, 455), (250, 290), (405, 313), (269, 303), (295, 441), (36, 101), (261, 448), (388, 260), (20, 242), (414, 398), (273, 422), (433, 411), (4, 5), (159, 28), (255, 261), (175, 152), (117, 31), (99, 242), (133, 155), (53, 46), (66, 65), (406, 313), (322, 436), (337, 299), (134, 236), (456, 399), (328, 250), (247, 33), (365, 397), (70, 71), (338, 151), (35, 113), (94, 19), (194, 106), (447, 323), (31, 228), (185, 57), (63, 68), (104, 69), (43, 202), (217, 126), (21, 71), (454, 447), (140, 171), (398, 286), (245, 193), (56, 28), (196, 188), (435, 433), (54, 104), (368, 300), (273, 291), (92, 216), (255, 359), (437, 399), (309, 250), (322, 269), (113, 46), (59, 75), (146, 43), (358, 371), (362, 341), (148, 152), (200, 428), (140, 148), (221, 222), (200, 199), (240, 235), (272, 304), (232, 231), (421, 18), (446, 340), (55, 189), (169, 211), (287, 432), (228, 117), (233, 232), (125, 141), (453, 464), (310, 415), (289, 392), (416, 433), (322, 426), (294, 327), (118, 101), (199, 175), (438, 457), (366, 352), (404, 315), (269, 270), (367, 433), (298, 333), (311, 272), (0, 267), (252, 451), (179, 89), (25, 31), (278, 360), (269, 391), (325, 292), (413, 441), (107, 69), (92, 206), (365, 364), (363, 440), (62, 183), (187, 214), (455, 294), (133, 243), (387, 388), (219, 166), (350, 357), (109, 151), (448, 254), (419, 456), (431, 430), (50, 101), (423, 426), (222, 27), (287, 422), (321, 335), (152, 377), (165, 167), (167, 97), (43, 61), (306, 291), (79, 20), (465, 464), (432, 287), (195, 51), (221, 189), (239, 237), (85, 179), (272, 271), (445, 342), (344, 439), (42, 74), (162, 139), (347, 450), (133, 112), (387, 257), (460, 327), (57, 202), (271, 311), (123, 147), (437, 343), (275, 281), (340, 261), (161, 30), (338, 337), (357, 350), (217, 47), (309, 459), (255, 339), (287, 291), (139, 127), (268, 12), (38, 81), (230, 22), (101, 100), (81, 42), (220, 237), (404, 403), (351, 168), (405, 404), (61, 185), (396, 175), (93, 137), (79, 239), (313, 406), (424, 273), (266, 330), (196, 122), (435, 367), (108, 9), (242, 238), (375, 273), (293, 283), (205, 207), (123, 137), (130, 33), (223, 224), (230, 120), (408, 306), (92, 186), (345, 366), (18, 200), (65, 52), (76, 61), (9, 8), (342, 446), (14, 86), (202, 57), (335, 321), (20, 166), (379, 364), (265, 342), (32, 140), (385, 258), (390, 373), (231, 120), (77, 62), (257, 258), (15, 316), (42, 41), (289, 290), (340, 372), (187, 50), (352, 346), (70, 139), (416, 367), (41, 81), (285, 441), (277, 437), (178, 86), (224, 53), (284, 333), (116, 111), (108, 107), (415, 407), (1, 44), (327, 294), (439, 392), (57, 61), (138, 135), (109, 108), (229, 24), (106, 182), (277, 329), (278, 294), (274, 440), (436, 322), (422, 424), (286, 414), (360, 363), (359, 255), (85, 15), (397, 367), (224, 30), (27, 159), (139, 71), (406, 335), (344, 360), (348, 330), (418, 431), (269, 302), (189, 193), (36, 100), (230, 231), (169, 135), (441, 414), (447, 345), (407, 272), (44, 220), (100, 121), (200, 208), (264, 372), (270, 303), (271, 268), (276, 383), (434, 411), (198, 134), (144, 163), (411, 427), (349, 452), (275, 274), (242, 97), (307, 306), (133, 190), (234, 93), (5, 4), (445, 276), (329, 330), (374, 252), (27, 28), (0, 11), (437, 277), (382, 341), (140, 170), (280, 330), (166, 79), (111, 143), (226, 130), (186, 57), (391, 426), (105, 69), (123, 117), (256, 381), (301, 389), (428, 200), (167, 165), (132, 58), (19, 1), (125, 19), (89, 96), (418, 421), (340, 352), (48, 64), (228, 31), (459, 309), (72, 12), (169, 210), (215, 177), (172, 215), (215, 213), (455, 460), (417, 168), (461, 354), (413, 463), (290, 392), (43, 106), (423, 327), (300, 293), (34, 143), (207, 214), (119, 101), (299, 297), (377, 396), (171, 148), (40, 73), (41, 38), (273, 424), (146, 91), (141, 125), (299, 333), (12, 11), (218, 79), (50, 123), (255, 263), (180, 89), (233, 244), (45, 44), (217, 236), (351, 465), (96, 95), (187, 213), (113, 35), (352, 280), (426, 266), (292, 415), (65, 107), (164, 0), (2, 167), (22, 145), (444, 283), (429, 420), (34, 156), (100, 101), (291, 306), (138, 213), (391, 393), (43, 204), (294, 460), (414, 413), (319, 404), (420, 456), (352, 401), (413, 417), (292, 307), (175, 396), (223, 27), (209, 129), (422, 273), (214, 207), (206, 203), (131, 209), (232, 112), (425, 427), (392, 250), (457, 459), (444, 260), (281, 4), (433, 367), (199, 200), (197, 419), (11, 0), (344, 438), (122, 245), (300, 368), (86, 179), (32, 208), (232, 233), (446, 342), (203, 206), (449, 347), (202, 210), (19, 354), (19, 125), (220, 115), (412, 465), (206, 216), (154, 26), (452, 357), (70, 63), (170, 150), (135, 192), (69, 67), (421, 406), (367, 435), (328, 327), (333, 293), (139, 162), (305, 460), (97, 165), (393, 164), (303, 270), (268, 312), (341, 382), (421, 262), (440, 275), (25, 33), (258, 384), (332, 333), (364, 365), (269, 393), (222, 52), (437, 355), (96, 62), (6, 168), (440, 360), (58, 215), (397, 435), (465, 453), (358, 327), (417, 413), (135, 169), (125, 241), (326, 2), (291, 273), (49, 102), (75, 240), (61, 76), (372, 383), (205, 206), (184, 183), (144, 110), (23, 229), (412, 419), (9, 151), (62, 77), (327, 460), (325, 307), (310, 407), (329, 277), (195, 197), (267, 302), (10, 151), (170, 140), (28, 56), (288, 361), (363, 275), (15, 86), (463, 362), (209, 217), (106, 204), (213, 187), (386, 258), (215, 147), (127, 34), (387, 259), (71, 139), (240, 60), (432, 410), (241, 141), (214, 187), (225, 53), (111, 31), (430, 422), (117, 111), (182, 91), (229, 23), (134, 51), (174, 236), (319, 325), (419, 412), (9, 285), (98, 97), (282, 443), (73, 40), (302, 12), (318, 402), (404, 405), (275, 440), (34, 234), (65, 221), (86, 15), (405, 406), (358, 294), (225, 30), (116, 123), (309, 438), (135, 136), (196, 3), (440, 363), (272, 407), (467, 466), (273, 335), (438, 439), (226, 31), (110, 228), (391, 327), (449, 448), (197, 196), (129, 98), (61, 43), (106, 194), (52, 223), (237, 125), (33, 246), (341, 362), (53, 224), (408, 272), (45, 220), (280, 352), (351, 412), (271, 303), (231, 230), (267, 269), (79, 218), (37, 72), (390, 339), (313, 421), (157, 173), (437, 456), (458, 250), (47, 121), (60, 240), (412, 399), (39, 37), (76, 184), (123, 116), (362, 398), (309, 392), (302, 267), (293, 298), (92, 165), (4, 281), (186, 92), (58, 172), (3, 236), (105, 104), (178, 88), (418, 335), (395, 431), (108, 109), (428, 199), (194, 32), (99, 60), (250, 458), (97, 99), (83, 201), (98, 64), (343, 277), (35, 124), (114, 188), (5, 281), (440, 438), (372, 340), (243, 189), (90, 96), (419, 6), (323, 447), (9, 108), (289, 305), (216, 92), (433, 435), (212, 207), (411, 416), (130, 25), (129, 209), (441, 295), (392, 439), (91, 182), (331, 279), (270, 269), (329, 355), (295, 442), (241, 242), (301, 293), (18, 313), (93, 227), (399, 419), (419, 248), (303, 302), (274, 275), (41, 73), (252, 256), (37, 39), (304, 303), (156, 139), (296, 299), (351, 6), (242, 99), (188, 128), (467, 446), (371, 329), (337, 336), (402, 316), (235, 59), (67, 103), (125, 44), (56, 173), (145, 22), (464, 413), (190, 173), (267, 393), (319, 403), (72, 37), (232, 26), (292, 306), (403, 402), (320, 404), (360, 440), (441, 285), (368, 301), (425, 426), (2, 94), (341, 463), (208, 199), (215, 58), (407, 408), (101, 36), (455, 305), (400, 369), (126, 129), (233, 112), (412, 343), (458, 459), (63, 46), (135, 214), (421, 428), (86, 178), (449, 346), (301, 368), (137, 116), (450, 347), (237, 239), (83, 181), (170, 149), (243, 133), (384, 258), (370, 94), (208, 32), (40, 39), (155, 26), (207, 216), (213, 147), (453, 357), (11, 12), (71, 63), (290, 250), (128, 188), (409, 287), (268, 311), (334, 293), (440, 274), (44, 45), (98, 165), (304, 270), (22, 26), (455, 439), (74, 73), (66, 69), (31, 111), (131, 198), (184, 61), (28, 222), (410, 287), (436, 425), (409, 408), (223, 52), (428, 421), (376, 411), (141, 19), (144, 24), (123, 50), (142, 100), (442, 441), (421, 418), (448, 255), (138, 215), (443, 442), (62, 76), (355, 329), (375, 307), (227, 143), (20, 79), (39, 92), (24, 229), (250, 392), (219, 59), (36, 203), (223, 29), (209, 131), (328, 460), (206, 205), (347, 330), (306, 292), (2, 326), (184, 74), (457, 461), (228, 229), (368, 389), (239, 238), (85, 180), (137, 227), (171, 140), (210, 211), (138, 192), (77, 96), (458, 462), (344, 440), (11, 267), (242, 20), (126, 217), (243, 244), (324, 318), (211, 32), (55, 193), (395, 378), (202, 212), (360, 420), (325, 319), (457, 438), (40, 186), (276, 283), (294, 331), (242, 141), (187, 205), (396, 199), (268, 13), (292, 407), (298, 301), (404, 319), (9, 55), (370, 326), (68, 104), (281, 248), (230, 23), (74, 184), (320, 325), (141, 94), (60, 20), (97, 167), (104, 63), (283, 443), (69, 105), (300, 383), (48, 131), (401, 435), (74, 40), (258, 386), (86, 14), (364, 367), (432, 422), (424, 418), (177, 132), (282, 334), (329, 266), (394, 395), (372, 264), (430, 434), (117, 123), (88, 96), (180, 179), (406, 405), (45, 134), (53, 223), (91, 106), (271, 302), (283, 276), (76, 62), (236, 51), (96, 77), (8, 193), (247, 246), (368, 356), (100, 47), (279, 278), (452, 349), (379, 365), (38, 72), (399, 343), (257, 259), (377, 175), (249, 255), (354, 457), (239, 241), (312, 311), (150, 169), (157, 28), (182, 201), (19, 94), (39, 72), (4, 51), (97, 242), (290, 328), (336, 295), (194, 211), (293, 333), (340, 265), (25, 110), (291, 409), (445, 467), (366, 323), (46, 53), (278, 439), (65, 66), (430, 424), (68, 71), (5, 51), (30, 224), (186, 212), (138, 172), (98, 99), (85, 16), (431, 424), (244, 189), (290, 305), (454, 264), (373, 339), (240, 75), (445, 444), (112, 155), (392, 438), (135, 138), (216, 212), (122, 168), (26, 231), (129, 64), (446, 265), (203, 129), (143, 227), (457, 274), (220, 218), (18, 83), (357, 452), (277, 343), (270, 304), (261, 255), (41, 72), (393, 2), (231, 232), (16, 15), (261, 340), (448, 346), (381, 256), (467, 445), (393, 267), (17, 16), (262, 421), (296, 334), (49, 48), (297, 299), (182, 83), (227, 234), (201, 182), (374, 253), (27, 29), (403, 316), (148, 175), (213, 192), (219, 235), (63, 104), (104, 105), (256, 382), (128, 233), (302, 269), (293, 300), (59, 219), (465, 412), (423, 266), (260, 388), (307, 320), (113, 226), (51, 134), (446, 255), (47, 100), (147, 187), (460, 455), (151, 337), (165, 92), (263, 255), (182, 181), (442, 257), (389, 251), (60, 75), (57, 186), (258, 441), (413, 464), (339, 249), (131, 220), (376, 433), (235, 48), (112, 243), (312, 268), (84, 181), (238, 239), (102, 49), (456, 281), (40, 74), (352, 340), (299, 334), (31, 25), (212, 186), (271, 272), (425, 330), (51, 3), (303, 304), (314, 313), (254, 448), (360, 429), (316, 14), (180, 90), (233, 245), (295, 336), (336, 337), (101, 205), (28, 221), (315, 314), (341, 452), (67, 69), (318, 325), (144, 23), (337, 338), (348, 347), (275, 363), (147, 177), (181, 90), (366, 401), (218, 237), (63, 71), (338, 10), (402, 403), (375, 306), (72, 39), (24, 228), (292, 308), (403, 404), (61, 146), (369, 262), (395, 400), (165, 203), (430, 394), (75, 166), (110, 7), (281, 5), (207, 205), (112, 233), (198, 236), (227, 34), (458, 461), (129, 142), (334, 282), (201, 18), (33, 25), (166, 60), (251, 284), (226, 111), (169, 214), (325, 318), (450, 349), (40, 185)})\n",
            "FaceMesh - <class 'mediapipe.python.solutions.face_mesh.FaceMesh'>\n",
            "NamedTuple - <function NamedTuple at 0x7d92d7d7ae60>\n",
            "SolutionBase - <class 'mediapipe.python.solution_base.SolutionBase'>\n",
            "_BINARYPB_FILE_PATH - mediapipe/modules/face_landmark/face_landmark_front_cpu.binarypb\n",
            "__builtins__ - {'__name__': 'builtins', '__doc__': \"Built-in functions, exceptions, and other objects.\\n\\nNoteworthy: None is the `nil' object; Ellipsis represents `...' in slices.\", '__package__': '', '__loader__': <class '_frozen_importlib.BuiltinImporter'>, '__spec__': ModuleSpec(name='builtins', loader=<class '_frozen_importlib.BuiltinImporter'>, origin='built-in'), '__build_class__': <built-in function __build_class__>, '__import__': <built-in function __import__>, 'abs': <built-in function abs>, 'all': <built-in function all>, 'any': <built-in function any>, 'ascii': <built-in function ascii>, 'bin': <built-in function bin>, 'breakpoint': <built-in function breakpoint>, 'callable': <built-in function callable>, 'chr': <built-in function chr>, 'compile': <built-in function compile>, 'delattr': <built-in function delattr>, 'dir': <built-in function dir>, 'divmod': <built-in function divmod>, 'eval': <built-in function eval>, 'exec': <built-in function exec>, 'format': <built-in function format>, 'getattr': <built-in function getattr>, 'globals': <built-in function globals>, 'hasattr': <built-in function hasattr>, 'hash': <built-in function hash>, 'hex': <built-in function hex>, 'id': <built-in function id>, 'input': <bound method Kernel.raw_input of <google.colab._kernel.Kernel object at 0x7d92cf9bddb0>>, 'isinstance': <built-in function isinstance>, 'issubclass': <built-in function issubclass>, 'iter': <built-in function iter>, 'aiter': <built-in function aiter>, 'len': <built-in function len>, 'locals': <built-in function locals>, 'max': <built-in function max>, 'min': <built-in function min>, 'next': <built-in function next>, 'anext': <built-in function anext>, 'oct': <built-in function oct>, 'ord': <built-in function ord>, 'pow': <built-in function pow>, 'print': <built-in function print>, 'repr': <built-in function repr>, 'round': <built-in function round>, 'setattr': <built-in function setattr>, 'sorted': <built-in function sorted>, 'sum': <built-in function sum>, 'vars': <built-in function vars>, 'None': None, 'Ellipsis': Ellipsis, 'NotImplemented': NotImplemented, 'False': False, 'True': True, 'bool': <class 'bool'>, 'memoryview': <class 'memoryview'>, 'bytearray': <class 'bytearray'>, 'bytes': <class 'bytes'>, 'classmethod': <class 'classmethod'>, 'complex': <class 'complex'>, 'dict': <class 'dict'>, 'enumerate': <class 'enumerate'>, 'filter': <class 'filter'>, 'float': <class 'float'>, 'frozenset': <class 'frozenset'>, 'property': <class 'property'>, 'int': <class 'int'>, 'list': <class 'list'>, 'map': <class 'map'>, 'object': <class 'object'>, 'range': <class 'range'>, 'reversed': <class 'reversed'>, 'set': <class 'set'>, 'slice': <class 'slice'>, 'staticmethod': <class 'staticmethod'>, 'str': <class 'str'>, 'super': <class 'super'>, 'tuple': <class 'tuple'>, 'type': <class 'type'>, 'zip': <class 'zip'>, '__debug__': True, 'BaseException': <class 'BaseException'>, 'Exception': <class 'Exception'>, 'TypeError': <class 'TypeError'>, 'StopAsyncIteration': <class 'StopAsyncIteration'>, 'StopIteration': <class 'StopIteration'>, 'GeneratorExit': <class 'GeneratorExit'>, 'SystemExit': <class 'SystemExit'>, 'KeyboardInterrupt': <class 'KeyboardInterrupt'>, 'ImportError': <class 'ImportError'>, 'ModuleNotFoundError': <class 'ModuleNotFoundError'>, 'OSError': <class 'OSError'>, 'EnvironmentError': <class 'OSError'>, 'IOError': <class 'OSError'>, 'EOFError': <class 'EOFError'>, 'RuntimeError': <class 'RuntimeError'>, 'RecursionError': <class 'RecursionError'>, 'NotImplementedError': <class 'NotImplementedError'>, 'NameError': <class 'NameError'>, 'UnboundLocalError': <class 'UnboundLocalError'>, 'AttributeError': <class 'AttributeError'>, 'SyntaxError': <class 'SyntaxError'>, 'IndentationError': <class 'IndentationError'>, 'TabError': <class 'TabError'>, 'LookupError': <class 'LookupError'>, 'IndexError': <class 'IndexError'>, 'KeyError': <class 'KeyError'>, 'ValueError': <class 'ValueError'>, 'UnicodeError': <class 'UnicodeError'>, 'UnicodeEncodeError': <class 'UnicodeEncodeError'>, 'UnicodeDecodeError': <class 'UnicodeDecodeError'>, 'UnicodeTranslateError': <class 'UnicodeTranslateError'>, 'AssertionError': <class 'AssertionError'>, 'ArithmeticError': <class 'ArithmeticError'>, 'FloatingPointError': <class 'FloatingPointError'>, 'OverflowError': <class 'OverflowError'>, 'ZeroDivisionError': <class 'ZeroDivisionError'>, 'SystemError': <class 'SystemError'>, 'ReferenceError': <class 'ReferenceError'>, 'MemoryError': <class 'MemoryError'>, 'BufferError': <class 'BufferError'>, 'Warning': <class 'Warning'>, 'UserWarning': <class 'UserWarning'>, 'EncodingWarning': <class 'EncodingWarning'>, 'DeprecationWarning': <class 'DeprecationWarning'>, 'PendingDeprecationWarning': <class 'PendingDeprecationWarning'>, 'SyntaxWarning': <class 'SyntaxWarning'>, 'RuntimeWarning': <class 'RuntimeWarning'>, 'FutureWarning': <class 'FutureWarning'>, 'ImportWarning': <class 'ImportWarning'>, 'UnicodeWarning': <class 'UnicodeWarning'>, 'BytesWarning': <class 'BytesWarning'>, 'ResourceWarning': <class 'ResourceWarning'>, 'ConnectionError': <class 'ConnectionError'>, 'BlockingIOError': <class 'BlockingIOError'>, 'BrokenPipeError': <class 'BrokenPipeError'>, 'ChildProcessError': <class 'ChildProcessError'>, 'ConnectionAbortedError': <class 'ConnectionAbortedError'>, 'ConnectionRefusedError': <class 'ConnectionRefusedError'>, 'ConnectionResetError': <class 'ConnectionResetError'>, 'FileExistsError': <class 'FileExistsError'>, 'FileNotFoundError': <class 'FileNotFoundError'>, 'IsADirectoryError': <class 'IsADirectoryError'>, 'NotADirectoryError': <class 'NotADirectoryError'>, 'InterruptedError': <class 'InterruptedError'>, 'PermissionError': <class 'PermissionError'>, 'ProcessLookupError': <class 'ProcessLookupError'>, 'TimeoutError': <class 'TimeoutError'>, 'open': <built-in function open>, 'copyright': Copyright (c) 2001-2023 Python Software Foundation.\n",
            "All Rights Reserved.\n",
            "\n",
            "Copyright (c) 2000 BeOpen.com.\n",
            "All Rights Reserved.\n",
            "\n",
            "Copyright (c) 1995-2001 Corporation for National Research Initiatives.\n",
            "All Rights Reserved.\n",
            "\n",
            "Copyright (c) 1991-1995 Stichting Mathematisch Centrum, Amsterdam.\n",
            "All Rights Reserved., 'credits':     Thanks to CWI, CNRI, BeOpen.com, Zope Corporation and a cast of thousands\n",
            "    for supporting Python development.  See www.python.org for more information., 'license': Type license() to see the full license text, 'help': Type help() for interactive help, or help(object) for help about object., '__IPYTHON__': True, 'display': <function display at 0x7d92d7a4cca0>, 'execfile': <function execfile at 0x7d92bea25ea0>, 'runfile': <function runfile at 0x7d92be973eb0>, '__pybind11_internals_v4_gcc_libstdcpp_cxxabi1011__': <capsule object NULL at 0x7d92bea9bd80>, '__pybind11_internals_v4_gcc_libstdcpp_cxxabi1014__': <capsule object NULL at 0x7d91fddefd80>, '__pybind11_internals_v4_clang_libstdcpp_cxxabi1002__': <capsule object NULL at 0x7d91fd654540>, 'get_ipython': <bound method InteractiveShell.get_ipython of <google.colab._shell.Shell object at 0x7d92cf9bde40>>}\n",
            "__cached__ - /usr/local/lib/python3.10/dist-packages/mediapipe/python/solutions/__pycache__/face_mesh.cpython-310.pyc\n",
            "__doc__ - MediaPipe Face Mesh.\n",
            "__file__ - /usr/local/lib/python3.10/dist-packages/mediapipe/python/solutions/face_mesh.py\n",
            "__loader__ - <_frozen_importlib_external.SourceFileLoader object at 0x7d91fc7c08e0>\n",
            "__name__ - mediapipe.python.solutions.face_mesh\n",
            "__package__ - mediapipe.python.solutions\n",
            "__spec__ - ModuleSpec(name='mediapipe.python.solutions.face_mesh', loader=<_frozen_importlib_external.SourceFileLoader object at 0x7d91fc7c08e0>, origin='/usr/local/lib/python3.10/dist-packages/mediapipe/python/solutions/face_mesh.py')\n",
            "association_calculator_pb2 - <module 'mediapipe.calculators.util.association_calculator_pb2' from '/usr/local/lib/python3.10/dist-packages/mediapipe/calculators/util/association_calculator_pb2.py'>\n",
            "constant_side_packet_calculator_pb2 - <module 'mediapipe.calculators.core.constant_side_packet_calculator_pb2' from '/usr/local/lib/python3.10/dist-packages/mediapipe/calculators/core/constant_side_packet_calculator_pb2.py'>\n",
            "detections_to_rects_calculator_pb2 - <module 'mediapipe.calculators.util.detections_to_rects_calculator_pb2' from '/usr/local/lib/python3.10/dist-packages/mediapipe/calculators/util/detections_to_rects_calculator_pb2.py'>\n",
            "gate_calculator_pb2 - <module 'mediapipe.calculators.core.gate_calculator_pb2' from '/usr/local/lib/python3.10/dist-packages/mediapipe/calculators/core/gate_calculator_pb2.py'>\n",
            "image_to_tensor_calculator_pb2 - <module 'mediapipe.calculators.tensor.image_to_tensor_calculator_pb2' from '/usr/local/lib/python3.10/dist-packages/mediapipe/calculators/tensor/image_to_tensor_calculator_pb2.py'>\n",
            "inference_calculator_pb2 - <module 'mediapipe.calculators.tensor.inference_calculator_pb2' from '/usr/local/lib/python3.10/dist-packages/mediapipe/calculators/tensor/inference_calculator_pb2.py'>\n",
            "landmarks_refinement_calculator_pb2 - <module 'mediapipe.calculators.util.landmarks_refinement_calculator_pb2' from '/usr/local/lib/python3.10/dist-packages/mediapipe/calculators/util/landmarks_refinement_calculator_pb2.py'>\n",
            "logic_calculator_pb2 - <module 'mediapipe.calculators.util.logic_calculator_pb2' from '/usr/local/lib/python3.10/dist-packages/mediapipe/calculators/util/logic_calculator_pb2.py'>\n",
            "non_max_suppression_calculator_pb2 - <module 'mediapipe.calculators.util.non_max_suppression_calculator_pb2' from '/usr/local/lib/python3.10/dist-packages/mediapipe/calculators/util/non_max_suppression_calculator_pb2.py'>\n",
            "np - <module 'numpy' from '/usr/local/lib/python3.10/dist-packages/numpy/__init__.py'>\n",
            "rect_transformation_calculator_pb2 - <module 'mediapipe.calculators.util.rect_transformation_calculator_pb2' from '/usr/local/lib/python3.10/dist-packages/mediapipe/calculators/util/rect_transformation_calculator_pb2.py'>\n",
            "split_vector_calculator_pb2 - <module 'mediapipe.calculators.core.split_vector_calculator_pb2' from '/usr/local/lib/python3.10/dist-packages/mediapipe/calculators/core/split_vector_calculator_pb2.py'>\n",
            "ssd_anchors_calculator_pb2 - <module 'mediapipe.calculators.tflite.ssd_anchors_calculator_pb2' from '/usr/local/lib/python3.10/dist-packages/mediapipe/calculators/tflite/ssd_anchors_calculator_pb2.py'>\n",
            "tensors_to_classification_calculator_pb2 - <module 'mediapipe.calculators.tensor.tensors_to_classification_calculator_pb2' from '/usr/local/lib/python3.10/dist-packages/mediapipe/calculators/tensor/tensors_to_classification_calculator_pb2.py'>\n",
            "tensors_to_detections_calculator_pb2 - <module 'mediapipe.calculators.tensor.tensors_to_detections_calculator_pb2' from '/usr/local/lib/python3.10/dist-packages/mediapipe/calculators/tensor/tensors_to_detections_calculator_pb2.py'>\n",
            "tensors_to_landmarks_calculator_pb2 - <module 'mediapipe.calculators.tensor.tensors_to_landmarks_calculator_pb2' from '/usr/local/lib/python3.10/dist-packages/mediapipe/calculators/tensor/tensors_to_landmarks_calculator_pb2.py'>\n",
            "thresholding_calculator_pb2 - <module 'mediapipe.calculators.util.thresholding_calculator_pb2' from '/usr/local/lib/python3.10/dist-packages/mediapipe/calculators/util/thresholding_calculator_pb2.py'>\n"
          ]
        }
      ]
    },
    {
      "cell_type": "code",
      "source": [],
      "metadata": {
        "id": "q0_cvgcDkdON"
      },
      "execution_count": null,
      "outputs": []
    }
  ],
  "metadata": {
    "colab": {
      "provenance": [],
      "authorship_tag": "ABX9TyN4Ex248uHq5CQvr4RJB0kc"
    },
    "kernelspec": {
      "display_name": "Python 3",
      "name": "python3"
    },
    "language_info": {
      "name": "python"
    }
  },
  "nbformat": 4,
  "nbformat_minor": 0
}