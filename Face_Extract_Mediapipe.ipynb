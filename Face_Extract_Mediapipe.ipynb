{
  "cells": [
    {
      "cell_type": "markdown",
      "metadata": {
        "id": "view-in-github",
        "colab_type": "text"
      },
      "source": [
        "<a href=\"https://colab.research.google.com/github/Prudiusal/crop_eyes/blob/main/Face_Extract_Mediapipe.ipynb\" target=\"_parent\"><img src=\"https://colab.research.google.com/assets/colab-badge.svg\" alt=\"Open In Colab\"/></a>"
      ]
    },
    {
      "cell_type": "code",
      "execution_count": null,
      "metadata": {
        "colab": {
          "base_uri": "https://localhost:8080/"
        },
        "id": "YPmIwMgFxY4k",
        "outputId": "ed6e3706-6a35-443d-cd7c-0ee40402daed"
      },
      "outputs": [
        {
          "output_type": "stream",
          "name": "stdout",
          "text": [
            "GPU Available: False\n"
          ]
        }
      ],
      "source": [
        "import torch\n",
        "print(\"GPU Available:\", torch.cuda.is_available())\n"
      ]
    },
    {
      "cell_type": "code",
      "execution_count": null,
      "metadata": {
        "colab": {
          "base_uri": "https://localhost:8080/"
        },
        "id": "UcO5ivx_uXkc",
        "outputId": "810b2370-970e-45a8-e778-40d5bf031b57"
      },
      "outputs": [
        {
          "output_type": "stream",
          "name": "stdout",
          "text": [
            "Mounted at /content/drive\n"
          ]
        }
      ],
      "source": [
        "from google.colab import drive\n",
        "drive.mount('/content/drive')\n"
      ]
    },
    {
      "cell_type": "code",
      "execution_count": null,
      "metadata": {
        "colab": {
          "base_uri": "https://localhost:8080/"
        },
        "collapsed": true,
        "id": "iT30fbOogLAO",
        "outputId": "624af681-b644-4097-8307-4a60e2192ed9"
      },
      "outputs": [
        {
          "output_type": "stream",
          "name": "stdout",
          "text": [
            "Requirement already satisfied: opencv-python in /usr/local/lib/python3.10/dist-packages (4.10.0.84)\n",
            "Collecting mediapipe\n",
            "  Downloading mediapipe-0.10.15-cp310-cp310-manylinux_2_17_x86_64.manylinux2014_x86_64.whl.metadata (9.7 kB)\n",
            "Requirement already satisfied: moviepy in /usr/local/lib/python3.10/dist-packages (1.0.3)\n",
            "Requirement already satisfied: numpy>=1.21.2 in /usr/local/lib/python3.10/dist-packages (from opencv-python) (1.26.4)\n",
            "Requirement already satisfied: absl-py in /usr/local/lib/python3.10/dist-packages (from mediapipe) (1.4.0)\n",
            "Requirement already satisfied: attrs>=19.1.0 in /usr/local/lib/python3.10/dist-packages (from mediapipe) (24.2.0)\n",
            "Requirement already satisfied: flatbuffers>=2.0 in /usr/local/lib/python3.10/dist-packages (from mediapipe) (24.3.25)\n",
            "Requirement already satisfied: jax in /usr/local/lib/python3.10/dist-packages (from mediapipe) (0.4.33)\n",
            "Requirement already satisfied: jaxlib in /usr/local/lib/python3.10/dist-packages (from mediapipe) (0.4.33)\n",
            "Requirement already satisfied: matplotlib in /usr/local/lib/python3.10/dist-packages (from mediapipe) (3.7.1)\n",
            "Requirement already satisfied: opencv-contrib-python in /usr/local/lib/python3.10/dist-packages (from mediapipe) (4.10.0.84)\n",
            "Collecting protobuf<5,>=4.25.3 (from mediapipe)\n",
            "  Downloading protobuf-4.25.5-cp37-abi3-manylinux2014_x86_64.whl.metadata (541 bytes)\n",
            "Collecting sounddevice>=0.4.4 (from mediapipe)\n",
            "  Downloading sounddevice-0.5.1-py3-none-any.whl.metadata (1.4 kB)\n",
            "Requirement already satisfied: decorator<5.0,>=4.0.2 in /usr/local/lib/python3.10/dist-packages (from moviepy) (4.4.2)\n",
            "Requirement already satisfied: tqdm<5.0,>=4.11.2 in /usr/local/lib/python3.10/dist-packages (from moviepy) (4.66.5)\n",
            "Requirement already satisfied: requests<3.0,>=2.8.1 in /usr/local/lib/python3.10/dist-packages (from moviepy) (2.32.3)\n",
            "Requirement already satisfied: proglog<=1.0.0 in /usr/local/lib/python3.10/dist-packages (from moviepy) (0.1.10)\n",
            "Requirement already satisfied: imageio<3.0,>=2.5 in /usr/local/lib/python3.10/dist-packages (from moviepy) (2.35.1)\n",
            "Requirement already satisfied: imageio-ffmpeg>=0.2.0 in /usr/local/lib/python3.10/dist-packages (from moviepy) (0.5.1)\n",
            "Requirement already satisfied: pillow>=8.3.2 in /usr/local/lib/python3.10/dist-packages (from imageio<3.0,>=2.5->moviepy) (10.4.0)\n",
            "Requirement already satisfied: setuptools in /usr/local/lib/python3.10/dist-packages (from imageio-ffmpeg>=0.2.0->moviepy) (75.1.0)\n",
            "Requirement already satisfied: charset-normalizer<4,>=2 in /usr/local/lib/python3.10/dist-packages (from requests<3.0,>=2.8.1->moviepy) (3.4.0)\n",
            "Requirement already satisfied: idna<4,>=2.5 in /usr/local/lib/python3.10/dist-packages (from requests<3.0,>=2.8.1->moviepy) (3.10)\n",
            "Requirement already satisfied: urllib3<3,>=1.21.1 in /usr/local/lib/python3.10/dist-packages (from requests<3.0,>=2.8.1->moviepy) (2.2.3)\n",
            "Requirement already satisfied: certifi>=2017.4.17 in /usr/local/lib/python3.10/dist-packages (from requests<3.0,>=2.8.1->moviepy) (2024.8.30)\n",
            "Requirement already satisfied: CFFI>=1.0 in /usr/local/lib/python3.10/dist-packages (from sounddevice>=0.4.4->mediapipe) (1.17.1)\n",
            "Requirement already satisfied: ml-dtypes>=0.2.0 in /usr/local/lib/python3.10/dist-packages (from jax->mediapipe) (0.4.1)\n",
            "Requirement already satisfied: opt-einsum in /usr/local/lib/python3.10/dist-packages (from jax->mediapipe) (3.4.0)\n",
            "Requirement already satisfied: scipy>=1.10 in /usr/local/lib/python3.10/dist-packages (from jax->mediapipe) (1.13.1)\n",
            "Requirement already satisfied: contourpy>=1.0.1 in /usr/local/lib/python3.10/dist-packages (from matplotlib->mediapipe) (1.3.0)\n",
            "Requirement already satisfied: cycler>=0.10 in /usr/local/lib/python3.10/dist-packages (from matplotlib->mediapipe) (0.12.1)\n",
            "Requirement already satisfied: fonttools>=4.22.0 in /usr/local/lib/python3.10/dist-packages (from matplotlib->mediapipe) (4.54.1)\n",
            "Requirement already satisfied: kiwisolver>=1.0.1 in /usr/local/lib/python3.10/dist-packages (from matplotlib->mediapipe) (1.4.7)\n",
            "Requirement already satisfied: packaging>=20.0 in /usr/local/lib/python3.10/dist-packages (from matplotlib->mediapipe) (24.1)\n",
            "Requirement already satisfied: pyparsing>=2.3.1 in /usr/local/lib/python3.10/dist-packages (from matplotlib->mediapipe) (3.2.0)\n",
            "Requirement already satisfied: python-dateutil>=2.7 in /usr/local/lib/python3.10/dist-packages (from matplotlib->mediapipe) (2.8.2)\n",
            "Requirement already satisfied: pycparser in /usr/local/lib/python3.10/dist-packages (from CFFI>=1.0->sounddevice>=0.4.4->mediapipe) (2.22)\n",
            "Requirement already satisfied: six>=1.5 in /usr/local/lib/python3.10/dist-packages (from python-dateutil>=2.7->matplotlib->mediapipe) (1.16.0)\n",
            "Downloading mediapipe-0.10.15-cp310-cp310-manylinux_2_17_x86_64.manylinux2014_x86_64.whl (35.9 MB)\n",
            "\u001b[2K   \u001b[90m━━━━━━━━━━━━━━━━━━━━━━━━━━━━━━━━━━━━━━━━\u001b[0m \u001b[32m35.9/35.9 MB\u001b[0m \u001b[31m24.6 MB/s\u001b[0m eta \u001b[36m0:00:00\u001b[0m\n",
            "\u001b[?25hDownloading protobuf-4.25.5-cp37-abi3-manylinux2014_x86_64.whl (294 kB)\n",
            "\u001b[2K   \u001b[90m━━━━━━━━━━━━━━━━━━━━━━━━━━━━━━━━━━━━━━━━\u001b[0m \u001b[32m294.6/294.6 kB\u001b[0m \u001b[31m14.1 MB/s\u001b[0m eta \u001b[36m0:00:00\u001b[0m\n",
            "\u001b[?25hDownloading sounddevice-0.5.1-py3-none-any.whl (32 kB)\n",
            "Installing collected packages: protobuf, sounddevice, mediapipe\n",
            "  Attempting uninstall: protobuf\n",
            "    Found existing installation: protobuf 3.20.3\n",
            "    Uninstalling protobuf-3.20.3:\n",
            "      Successfully uninstalled protobuf-3.20.3\n",
            "\u001b[31mERROR: pip's dependency resolver does not currently take into account all the packages that are installed. This behaviour is the source of the following dependency conflicts.\n",
            "tensorflow-metadata 1.16.1 requires protobuf<4.21,>=3.20.3; python_version < \"3.11\", but you have protobuf 4.25.5 which is incompatible.\u001b[0m\u001b[31m\n",
            "\u001b[0mSuccessfully installed mediapipe-0.10.15 protobuf-4.25.5 sounddevice-0.5.1\n"
          ]
        }
      ],
      "source": [
        "!pip install opencv-python mediapipe moviepy\n"
      ]
    },
    {
      "cell_type": "code",
      "execution_count": null,
      "metadata": {
        "id": "UrFJqFHhgu1t"
      },
      "outputs": [],
      "source": [
        "from pathlib import Path\n",
        "import shutil\n",
        "from datetime import datetime\n",
        "import math\n",
        "\n",
        "from scipy.signal import savgol_filter\n",
        "\n",
        "import cv2\n",
        "import mediapipe as mp\n",
        "import numpy as np\n",
        "\n",
        "OUTPUT_VIDEO_WIDTH = 1920\n",
        "OUTPUT_VIDEO_HEIGHT = 1080\n",
        "LEFT_EYE_SHIFT = 480\n",
        "RIGHT_EYE_SHIFT = 480\n",
        "OUTPUT_PATH_TMP = 'output_video_tmp.mp4'\n",
        "EYE_OPEN_THRESHOLD = 0.2\n",
        "RECALC_AREA_FRAMES = 10\n",
        "TARGET_WIDTH = 1280\n",
        "TARGET_HEIGHT = 720\n"
      ]
    },
    {
      "cell_type": "code",
      "execution_count": null,
      "metadata": {
        "id": "XtgTWmdZDeM8"
      },
      "outputs": [],
      "source": [
        "def get_pupils(landmarks):\n",
        "  left_pupil = (\n",
        "      (landmarks.landmark[33].x + landmarks.landmark[36].x) / 2,\n",
        "      (landmarks.landmark[33].y + landmarks.landmark[36].y) / 2\n",
        "    )\n",
        "\n",
        "  right_pupil = (\n",
        "      (landmarks.landmark[133].x + landmarks.landmark[136].x) / 2,\n",
        "      (landmarks.landmark[133].y + landmarks.landmark[136].y) / 2\n",
        "    )\n",
        "  return left_pupil, right_pupil\n"
      ]
    },
    {
      "cell_type": "code",
      "execution_count": null,
      "metadata": {
        "id": "xN-XCAteJXfS"
      },
      "outputs": [],
      "source": [
        "def get_eye_aspect_ratio(landmarks):\n",
        "    # Calculate distances for EAR\n",
        "    left_eye_height = (\n",
        "        landmarks.landmark[159].y - landmarks.landmark[145].y +  # Vertical distance\n",
        "        landmarks.landmark[158].y - landmarks.landmark[144].y\n",
        "    )\n",
        "    right_eye_height = (\n",
        "        landmarks.landmark[386].y - landmarks.landmark[374].y +  # Vertical distance\n",
        "        landmarks.landmark[387].y - landmarks.landmark[373].y\n",
        "    )\n",
        "    left_eye_width = landmarks.landmark[36].x - landmarks.landmark[39].x  # Horizontal distance\n",
        "    right_eye_width = landmarks.landmark[123].x - landmarks.landmark[130].x  # Horizontal distance\n",
        "\n",
        "    # Calculate EAR for both eyes\n",
        "    left_eye_ratio = left_eye_height / (2.0 * left_eye_width)\n",
        "    right_eye_ratio = right_eye_height / (2.0 * right_eye_width)\n",
        "\n",
        "    return left_eye_ratio, right_eye_ratio"
      ]
    },
    {
      "cell_type": "code",
      "execution_count": null,
      "metadata": {
        "id": "bUdcW5XFEatz"
      },
      "outputs": [],
      "source": [
        "def get_eye_center(landmarks):\n",
        "  left_eye_landmarks = [(landmarks.landmark[i].x, landmarks.landmark[i].y) for i in range(33, 39)]\n",
        "  right_eye_landmarks = [(landmarks.landmark[i].x, landmarks.landmark[i].y) for i in range(133, 139)]\n",
        "\n",
        "  left_eye_center = (\n",
        "      sum(x for x, _ in left_eye_landmarks) / len(left_eye_landmarks),\n",
        "      sum(y for _, y in left_eye_landmarks) / len(left_eye_landmarks)\n",
        "      )\n",
        "  right_eye_center = (\n",
        "      sum(x for x, _ in right_eye_landmarks) / len(right_eye_landmarks),\n",
        "      sum(y for _, y in right_eye_landmarks) / len(right_eye_landmarks)\n",
        "      )\n",
        "  return left_eye_center, right_eye_center"
      ]
    },
    {
      "cell_type": "code",
      "execution_count": null,
      "metadata": {
        "id": "SzYppLPkHb0w"
      },
      "outputs": [],
      "source": [
        "def exponential_smoothing(angles, angle, alpha=0.8):\n",
        "    if angles:\n",
        "        smoothed_angle = alpha * angles[-1] + (1 - alpha) * angle\n",
        "    else:\n",
        "        smoothed_angle = angle  # If no previous angles, just return the current angle\n",
        "    return smoothed_angle\n"
      ]
    },
    {
      "cell_type": "code",
      "execution_count": null,
      "metadata": {
        "id": "gh2138QTLLqp"
      },
      "outputs": [],
      "source": [
        "def exponential_smoothing_midpoint(midpoints, new_midpoint, alpha=0.8):\n",
        "    if midpoints:\n",
        "        smoothed_midpoint = (\n",
        "            alpha * midpoints[-1][0] + (1 - alpha) * new_midpoint[0],\n",
        "            alpha * midpoints[-1][1] + (1 - alpha) * new_midpoint[1]\n",
        "        )\n",
        "    else:\n",
        "        smoothed_midpoint = new_midpoint  # If no previous midpoints, just return the current midpoint\n",
        "    return smoothed_midpoint\n"
      ]
    },
    {
      "cell_type": "code",
      "execution_count": null,
      "metadata": {
        "id": "3Z9TcsXOD43c"
      },
      "outputs": [],
      "source": [
        "def get_rotation_matrix(landmarks, angles, midpoints):\n",
        "\n",
        "  # Get eye aspect ratios\n",
        "  left_eye_ratio, right_eye_ratio = get_eye_aspect_ratio(landmarks)\n",
        "\n",
        "  if left_eye_ratio < EYE_OPEN_THRESHOLD and right_eye_ratio < EYE_OPEN_THRESHOLD:\n",
        "    print(\"Eyes are closed.\")\n",
        "    if angles and midpoints:\n",
        "      print('Previous angle was used')\n",
        "      angle = angles[-1]\n",
        "      midpoint = midpoints[-1]\n",
        "\n",
        "  else:\n",
        "    left_pupil, right_pupil = get_pupils(landmarks)\n",
        "    dx = right_pupil[0] - left_pupil[0]\n",
        "    dy = right_pupil[1] - left_pupil[1]\n",
        "    midpoint = (\n",
        "      (left_pupil[0] + right_pupil[0]) / 2,\n",
        "      (left_pupil[1] + right_pupil[1]) / 2\n",
        "    )\n",
        "\n",
        "    angle = math.degrees(math.atan2(dy, dx))\n",
        "    smoothed_angle = exponential_smoothing(angles, angle)\n",
        "    angles.append(smoothed_angle)\n",
        "    smoothed_midpoint = exponential_smoothing_midpoint(midpoints, midpoint)\n",
        "    midpoints.append(smoothed_midpoint)\n",
        "\n",
        "  rotation_matrix = cv2.getRotationMatrix2D(smoothed_midpoint, smoothed_angle, 1.0)\n",
        "  return rotation_matrix, angles, midpoints\n",
        "\n"
      ]
    },
    {
      "cell_type": "code",
      "execution_count": null,
      "metadata": {
        "id": "sBThSVdT_yOq"
      },
      "outputs": [],
      "source": [
        "def process_frame(frame, landmarks, angles, midpoints):\n",
        "\n",
        "  height, width = frame.shape[:2]\n",
        "\n",
        "  # Create rotation matrix\n",
        "  # rotation_matrix = cv2.getRotationMatrix2D(center, angle, 1.0)\n",
        "  rotation_matrix, angles, midpoints = get_rotation_matrix(landmarks, angles, midpoints)\n",
        "  # Rotate the frame\n",
        "  rotated_frame = cv2.warpAffine(frame, rotation_matrix, (width, height))\n",
        "  # crop the fram\n",
        "  # fill to 1920x1080\n",
        "\n",
        "  return rotated_frame, angles, midpoints"
      ]
    },
    {
      "cell_type": "code",
      "source": [],
      "metadata": {
        "id": "ydjXYQPdld91"
      },
      "execution_count": null,
      "outputs": []
    },
    {
      "cell_type": "code",
      "source": [
        "def update_crop_params(landmarks, params):\n",
        "    frame_height = params['frame_height']\n",
        "\n",
        "    left_pupil, right_pupil = get_pupils(landmarks)\n",
        "\n",
        "    dx = right_pupil[0] - left_pupil[0]\n",
        "    dy = right_pupil[1] - left_pupil[1]\n",
        "    midpoint = (\n",
        "      (left_pupil[0] + right_pupil[0]) / 2,\n",
        "      (left_pupil[1] + right_pupil[1]) / 2)\n",
        "\n",
        "    w = int(2 * dx)\n",
        "    h = int(9 / 16 * w)\n",
        "    x = int(midpoint[0] - dx)\n",
        "    y = int(min(frame_height - h, midpoint[1] - 0.5 * h))\n",
        "\n",
        "    # params['crop_wide'].append(w)\n",
        "    # params['crop_height'].append(h)\n",
        "    # params['crop_x'].append(x)\n",
        "    # params['crop_y'].append(y)\n",
        "  # new_params = {}\n",
        "    params['crop_wide'].append(200)\n",
        "    params['crop_height'].append(200)\n",
        "    params['crop_x'].append(200)\n",
        "    params['crop_y'].append(200)\n",
        "  # new_params = {}\n",
        "  # params.append(new_params)"
      ],
      "metadata": {
        "id": "YDlINbYgcuPG"
      },
      "execution_count": null,
      "outputs": []
    },
    {
      "cell_type": "code",
      "source": [
        "def crop_frame(frame, params):\n",
        "  # if not (params['crop_wide'] and params['crop_height'] and params['crop_x'] and params['crop_y']):\n",
        "    # return fram\n",
        "  x = params['crop_x'][-1]\n",
        "  y = params['crop_y'][-1]\n",
        "  w = params['crop_wide'][-1]\n",
        "  h = params['crop_height'][-1]\n",
        "  # if not (params['crop_wide'] and params['crop_height'] and params['crop_x'] and params['crop_y']):\n",
        "    # return frame\n",
        "  frame = frame[y:y + h, x:x + w]\n",
        "  return frame"
      ],
      "metadata": {
        "id": "FzlSeUMcchaB"
      },
      "execution_count": null,
      "outputs": []
    },
    {
      "cell_type": "code",
      "execution_count": null,
      "metadata": {
        "id": "ctvLEh3FhMac"
      },
      "outputs": [],
      "source": [
        "def process_video(video_path: str, face_mesh):\n",
        "    n_face, n_no_face = 0, 0\n",
        "    # angles = []\n",
        "    # midpoints = []\n",
        "    params = {}\n",
        "    params['crop_wide'] = []\n",
        "    params['crop_height'] = []\n",
        "    params['crop_x'] = []\n",
        "    params['crop_y'] = []\n",
        "\n",
        "    assert Path(video_path).exists(), f\"Video file not found: {video_path}\"\n",
        "    cap = cv2.VideoCapture(video_path)\n",
        "    # FRAME_WIDTH = int(cap.get(cv2.CAP_PROP_FRAME_WIDTH))\n",
        "    FRAME_HEIGHT = int(cap.get(cv2.CAP_PROP_FRAME_HEIGHT))\n",
        "    params['frame_height'] = FRAME_HEIGHT\n",
        "\n",
        "\n",
        "    fps = cap.get(cv2.CAP_PROP_FPS)\n",
        "    print(f\"FPS: {fps}\")\n",
        "    out_video = get_out_video_writer(fps)\n",
        "    frames_counter = 0\n",
        "\n",
        "    while True:\n",
        "      ret, frame = cap.read()\n",
        "      if not ret:\n",
        "          break\n",
        "      rgb_frame = cv2.cvtColor(frame, cv2.COLOR_BGR2RGB)\n",
        "\n",
        "      if not frames_counter:\n",
        "        face_mask_results = face_mesh.process(rgb_frame)\n",
        "        if face_mask_results.multi_face_landmarks:\n",
        "          frames_counter = RECALC_AREA_FRAMES\n",
        "          landmarks = face_mask_results.multi_face_landmarks[0]\n",
        "          update_crop_params(landmarks, params)\n",
        "        # TODO: apply angle transformation and recalc landmarks\n",
        "          # get the crop/matrix/parameters here\n",
        "          # use those parameters or smth to change frame\n",
        "          # new_frame, angles, midpoints = process_frame(frame, landmarks, angles, midpoints)\n",
        "          # out.write(new_frame)\n",
        "        else:\n",
        "          print('Face not found')\n",
        "      else:\n",
        "        frames_counter -= 1\n",
        "\n",
        "      cropped_frame = crop_frame(frame, params)\n",
        "      resized_frame = cv2.resize(cropped_frame, (OUTPUT_VIDEO_WIDTH, OUTPUT_VIDEO_HEIGHT))\n",
        "      out_video.write(resized_frame)\n",
        "\n",
        "    cap.release()\n",
        "    out_video.release()\n",
        "\n",
        "    output_path = Path(video_path).parent / (Path(video_path).stem + '.mp4')\n",
        "    timestamp = datetime.now().strftime(\"%Y%m%d_%H%M%S\")\n",
        "    output_path = Path(video_path).parent / f\"{Path(video_path).stem}_{timestamp}_processed.mp4\"\n",
        "\n",
        "    shutil.copy(OUTPUT_PATH_TMP, output_path)\n",
        "    # print(f\"Number of faces: {n_face}\")\n",
        "    # print(f\"Number of no faces: {n_no_face}\")\n",
        "    print(f'Saved as {output_path}')\n",
        "\n",
        "    return True\n"
      ]
    },
    {
      "cell_type": "code",
      "execution_count": null,
      "metadata": {
        "id": "IlLQVeFgkz3V"
      },
      "outputs": [],
      "source": [
        "def get_out_video_writer(fps):\n",
        "    fourcc = cv2.VideoWriter_fourcc(*'mp4v')\n",
        "    out = cv2.VideoWriter(OUTPUT_PATH_TMP,\n",
        "                          fourcc,\n",
        "                          fps,\n",
        "                          (OUTPUT_VIDEO_WIDTH, OUTPUT_VIDEO_HEIGHT))\n",
        "    return out"
      ]
    },
    {
      "cell_type": "code",
      "execution_count": null,
      "metadata": {
        "colab": {
          "base_uri": "https://localhost:8080/"
        },
        "id": "7vItXnD3ueck",
        "outputId": "5a4b718a-3e6d-485f-f3dc-20696661c4e4"
      },
      "outputs": [
        {
          "output_type": "stream",
          "name": "stdout",
          "text": [
            "FPS: 25.0\n",
            "Saved as /content/drive/MyDrive/Personal/BUDKA/cropped_short_20241029_152110_processed.mp4\n"
          ]
        },
        {
          "output_type": "execute_result",
          "data": {
            "text/plain": [
              "True"
            ]
          },
          "metadata": {},
          "execution_count": 69
        }
      ],
      "source": [
        "mp_face_mesh = mp.solutions.face_mesh\n",
        "face_mesh = mp_face_mesh.FaceMesh(static_image_mode=False, max_num_faces=1)\n",
        "video_path = '/content/drive/MyDrive/Personal/BUDKA/cropped_short.mp4'\n",
        "process_video(video_path, face_mesh)"
      ]
    },
    {
      "cell_type": "code",
      "source": [],
      "metadata": {
        "id": "0N3hYPxU3z_i"
      },
      "execution_count": null,
      "outputs": []
    }
  ],
  "metadata": {
    "colab": {
      "provenance": [],
      "authorship_tag": "ABX9TyO0CKvASi+CyLHhafIgRl+R",
      "include_colab_link": true
    },
    "kernelspec": {
      "display_name": "Python 3",
      "name": "python3"
    },
    "language_info": {
      "name": "python"
    }
  },
  "nbformat": 4,
  "nbformat_minor": 0
}